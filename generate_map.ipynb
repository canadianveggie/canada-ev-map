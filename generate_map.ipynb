{
 "cells": [
  {
   "cell_type": "code",
   "execution_count": null,
   "id": "e4c8967d-d1a9-40a1-98e0-f7387f8d64ae",
   "metadata": {
    "tags": []
   },
   "outputs": [],
   "source": [
    "import geopandas\n",
    "import urllib\n",
    "import json\n",
    "import pandas\n",
    "from datetime import date, timedelta\n",
    "import matplotlib\n",
    "import matplotlib.pyplot as plt\n",
    "import numpy as np\n",
    "import shapely.ops\n",
    "\n"
   ]
  },
  {
   "cell_type": "code",
   "execution_count": null,
   "id": "fc1577fb-80dd-48d7-86ac-916a18768e6e",
   "metadata": {
    "tags": []
   },
   "outputs": [],
   "source": [
    "import fiona;\n",
    "fiona.supported_drivers\n"
   ]
  },
  {
   "cell_type": "code",
   "execution_count": null,
   "id": "77dd23de-0b27-4f68-a0c0-2f06f83ad13b",
   "metadata": {
    "tags": []
   },
   "outputs": [],
   "source": [
    "mapping_crs = \"EPSG:3347\" # NAD83 / Statistics Canada Lambert\n",
    "# mapping_crs = \"EPSG:3857\" # Pseudo-Mercator\n",
    "output_crs = \"EPSG:4326\" # Lat/Lng https://epsg.io/4326"
   ]
  },
  {
   "cell_type": "code",
   "execution_count": null,
   "id": "8b8e09c1-427b-44db-b16e-218604f18256",
   "metadata": {
    "tags": []
   },
   "outputs": [],
   "source": [
    "def load_geodataset(remote_path, local_path, simplify=None, refresh_cache=False):\n",
    "    df = None\n",
    "    if not refresh_cache:\n",
    "        try:\n",
    "            df = geopandas.read_file(local_path)\n",
    "        except Exception as e:\n",
    "            print(e)\n",
    "    \n",
    "    if df is None:\n",
    "        print(f\"Loading {remote_path}\")\n",
    "        df = geopandas.read_file(remote_path)\n",
    "        if simplify:\n",
    "            df[\"geometry\"] = df[\"geometry\"].simplify(simplify)\n",
    "\n",
    "        print(f\"Saving to {local_path}\")\n",
    "        df.to_file(local_path)\n",
    "\n",
    "    return df"
   ]
  },
  {
   "cell_type": "code",
   "execution_count": null,
   "id": "b2b699c2-74af-4d32-bfbf-26e438516660",
   "metadata": {
    "tags": []
   },
   "outputs": [],
   "source": [
    "def get_roads(refresh_cache=False):\n",
    "    remote_path = \"https://www12.statcan.gc.ca/census-recensement/2021/geo/sip-pis/RNF-FRR/files-fichiers/lrnf000r21a_e.zip\"\n",
    "    local_path = \"data/roads.shp\"\n",
    "    return load_geodataset(remote_path, local_path, refresh_cache=refresh_cache)\n"
   ]
  },
  {
   "cell_type": "code",
   "execution_count": null,
   "id": "62a7f709-ae69-41ee-8fd0-bd3198aabd0f",
   "metadata": {
    "tags": []
   },
   "outputs": [],
   "source": [
    "def get_highways(refresh_cache=False, columns=[\"NAME\", \"TYPE\", \"CSDNAME_R\", \"PRNAME_L\", \"geometry\"]):\n",
    "    local_path = \"data/highways.shp\"\n",
    "    \n",
    "    highways = None\n",
    "    if not refresh_cache:\n",
    "        try:\n",
    "            highways = geopandas.read_file(local_path)\n",
    "        except Exception as e:\n",
    "            print(e)\n",
    "    \n",
    "    if highways is None:\n",
    "        roads = get_roads(refresh_cache)\n",
    "        highways = roads.query('RANK <= \"2\"')\n",
    "        print(f\"Saving to {local_path}\")\n",
    "        highways.to_file(local_path)\n",
    "\n",
    "    return highways[columns].to_crs(mapping_crs)\n"
   ]
  },
  {
   "cell_type": "code",
   "execution_count": null,
   "id": "8a87f46a-00e2-48f2-9221-f519fac6f364",
   "metadata": {
    "tags": []
   },
   "outputs": [],
   "source": [
    "# this is very slow the first time you run it (downloads a 296 MB zipfile), but it saves a smaller local version for future runs (139 MB)\n",
    "highways = get_highways()\n",
    "highways"
   ]
  },
  {
   "cell_type": "code",
   "execution_count": null,
   "id": "21e97c5b-e0c4-41a9-9921-83702818fdd6",
   "metadata": {
    "tags": []
   },
   "outputs": [],
   "source": [
    "highways.plot()"
   ]
  },
  {
   "cell_type": "code",
   "execution_count": null,
   "id": "296c66ef-5a12-47a8-b060-8eb02ac934b0",
   "metadata": {
    "tags": []
   },
   "outputs": [],
   "source": [
    "def get_provinces(refresh_cache=False):\n",
    "    remote_path = \"https://www12.statcan.gc.ca/census-recensement/2011/geo/bound-limit/files-fichiers/2016/lpr_000b16a_e.zip\"\n",
    "    local_path = \"data/provinces.shp\"\n",
    "    # simplify=1000 turns a 54 MB file to a 3 MB file\n",
    "    return load_geodataset(remote_path, local_path, simplify=1000, refresh_cache=refresh_cache)"
   ]
  },
  {
   "cell_type": "code",
   "execution_count": null,
   "id": "05d48c28-5dec-4380-9496-80ce220d52f3",
   "metadata": {
    "tags": []
   },
   "outputs": [],
   "source": [
    "provinces = get_provinces()\n",
    "provinces.plot()"
   ]
  },
  {
   "cell_type": "code",
   "execution_count": null,
   "id": "ffa4f052-8e12-4dc5-a86b-1ded1a5b05af",
   "metadata": {
    "tags": []
   },
   "outputs": [],
   "source": [
    "# connector_type: [all, NEMA1450, NEMA515, NEMA520, J1772, J1772COMBO, CHADEMO, TESLA]\n",
    "def get_stations(connector_type=\"J1772COMBO\", country=\"CA\", refresh_cache=False):\n",
    "    remote_path=f\"https://developer.nrel.gov/api/alt-fuel-stations/v1.geojson?api_key=JDgwj9XoVgfg8ryEgz1AOnnBbfoLATWjy4x6dOlv&country={country}&owner_type=all&cards_accepted=all&offset=0&fuel_type=ELEC&access=public&status=E&ev_charging_level=dc_fast&ev_connector_type={connector_type}&ev_network=all\"\n",
    "    local_path=f\"data/stations_{country}_{connector_type}.shp\"\n",
    "\n",
    "    stations = None\n",
    "    if not refresh_cache:\n",
    "        try:\n",
    "            stations = geopandas.read_file(local_path)\n",
    "        except Exception as e:\n",
    "            print(e)\n",
    "    \n",
    "    if stations is None:\n",
    "        print(f\"Loading {remote_path}\")\n",
    "        stations = geopandas.read_file(remote_path)\n",
    "        stations.crs = \"EPSG:4326\"\n",
    "        columns=[\"id\", \"open_date\", \"status_code\", \"station_name\",\n",
    "           \"city\", \"state\", \"street_address\", \"ev_network\", \"geometry\"]\n",
    "        stations = stations[columns]\n",
    "        print(f\"Saving to {local_path}\")\n",
    "        stations.to_file(local_path)\n",
    "\n",
    "    return stations.to_crs(mapping_crs)\n",
    "\n",
    "    \n",
    "    "
   ]
  },
  {
   "cell_type": "code",
   "execution_count": null,
   "id": "8c0f2def-c4e4-4d9d-a573-f184a7976c34",
   "metadata": {
    "tags": []
   },
   "outputs": [],
   "source": [
    "# Hyudani Kona - CCS Combo - 415 km\n",
    "# Hyudani Ioniq 5 - CCS Combo - 354 km\n",
    "# Hyudani Ioniq 5 Long Range - CCS Combo - 488 km\n",
    "# Nissan Leaf - Chademo 349 km\n",
    "# Telsa Model 3 Standard Range - 401 km\n",
    "# Tesla Model 3 Extended Range - 518 km\n",
    "\n",
    "connector_type= \"J1772COMBO\" # one of [\"CHADEMO\", \"J1772COMBO\", \"TESLA\"]\n",
    "max_range = 415"
   ]
  },
  {
   "cell_type": "code",
   "execution_count": null,
   "id": "3937bba5-30ef-4eb7-85af-834137d43e16",
   "metadata": {
    "tags": []
   },
   "outputs": [],
   "source": [
    "stations = get_stations(connector_type)\n",
    "stations"
   ]
  },
  {
   "cell_type": "code",
   "execution_count": null,
   "id": "291bcaf7-5162-4201-97f1-85129cec6d97",
   "metadata": {
    "tags": []
   },
   "outputs": [],
   "source": [
    "stations.to_crs(output_crs).to_file(f\"maps/stations_map_{connector_type}.geojson\")"
   ]
  },
  {
   "cell_type": "code",
   "execution_count": null,
   "id": "fd28b969-0335-466e-8ea1-a22c9c667bee",
   "metadata": {},
   "outputs": [],
   "source": [
    "stations[\"open_date\"] = stations[\"open_date\"].apply(lambda x: (date.fromisoformat(x) if x is not None else date.today()))\n"
   ]
  },
  {
   "cell_type": "code",
   "execution_count": null,
   "id": "c62175b3-a248-4e67-9e5c-0331cf88a713",
   "metadata": {
    "tags": []
   },
   "outputs": [],
   "source": [
    "stations.plot()"
   ]
  },
  {
   "cell_type": "code",
   "execution_count": null,
   "id": "51802a7a-90b4-46c0-a7d6-ca1fbef327ee",
   "metadata": {
    "tags": []
   },
   "outputs": [],
   "source": [
    "ax = stations.plot(color='g', markersize=10)\n",
    "highways.plot(ax=ax)"
   ]
  },
  {
   "cell_type": "code",
   "execution_count": null,
   "id": "223969d1-0bae-4a7a-9f4c-51af57c2978c",
   "metadata": {
    "tags": []
   },
   "outputs": [],
   "source": [
    "# Method 1 for finding close stations - keep adding adjacent segments next to each EV\n",
    "def find_stations_old_method():\n",
    "    close_stations = geopandas.sjoin_nearest(highways, stations[[\"geometry\"]], how='left', distance_col='charger_distance', max_distance=5000)\n",
    "    close_stations = close_stations.drop(['index_right'], axis=1)\n",
    "\n",
    "    found = close_stations[close_stations.charger_distance >= 0]\n",
    "    not_found = close_stations[close_stations.charger_distance.isna()]\n",
    "    f\"{len(found)} / {len(not_found)}\"\n",
    "\n",
    "    changes = True\n",
    "    tolerance = 0.1\n",
    "    i = 0\n",
    "\n",
    "    while changes and len(not_found) > 0:\n",
    "        adjacent = geopandas.sjoin_nearest(not_found.drop([\"charger_distance\"], axis=1), found[[\"geometry\", \"charger_distance\"]], how='left', distance_col='closest_distance', max_distance=tolerance)\n",
    "        adjacent[\"charger_distance\"] = adjacent[\"charger_distance\"] + adjacent.geometry.length + adjacent[\"closest_distance\"]\n",
    "        adjacent = adjacent[found.columns]\n",
    "        changes = len(adjacent[adjacent.charger_distance >= 0]) > 0\n",
    "        found = pandas.concat([found, adjacent[adjacent.charger_distance >= 0]])\n",
    "        not_found = adjacent[adjacent.charger_distance.isna()]\n",
    "        i += 1\n",
    "        if i % 100 == 0:\n",
    "            print(f\"{len(found)} / {len(not_found)}\")\n",
    "    print(f\"{len(found)} / {len(not_found)}\")\n",
    "\n",
    "    not_found[\"charger_distance\"] = 999999\n",
    "    found = pandas.concat([found, not_found])\n",
    "    return found\n",
    "\n",
    "# found = find_stations_old_method()"
   ]
  },
  {
   "cell_type": "code",
   "execution_count": null,
   "id": "23599467-516c-45e8-8cae-ba298197db0e",
   "metadata": {
    "tags": []
   },
   "outputs": [],
   "source": [
    "# Method 2 for finding close stations - look at adjacent stations and find minimum path to a charger\n",
    "def calculate_ev_highways(stations, highways, ev_highways=None):\n",
    "    close_stations = geopandas.sjoin_nearest(highways, stations[[\"geometry\"]], how='left', distance_col='charger_distance', max_distance=5000)\n",
    "    close_stations = close_stations.drop(['index_right'], axis=1)\n",
    "\n",
    "    if ev_highways is None:\n",
    "        max_distance = 499999 # We don't care about roads more than 500 kms away from a station\n",
    "        ev_highways = highways.copy()\n",
    "        ev_highways[\"charger_distance\"] = max_distance\n",
    "    \n",
    "    next_round = close_stations[close_stations[\"charger_distance\"] >= 0]\n",
    "    ev_highways.loc[next_round.index, \"charger_distance\"] = next_round[\"charger_distance\"]\n",
    "\n",
    "    changes = True\n",
    "    tolerance = 0.1\n",
    "    i = 0\n",
    "\n",
    "    while changes:\n",
    "        adjacent = geopandas.sjoin_nearest(ev_highways[[\"geometry\", \"charger_distance\"]], next_round, how='left', distance_col=\"closest_distance\", max_distance=tolerance)\n",
    "        adjacent = adjacent[~adjacent[\"closest_distance\"].isna()]\n",
    "        adjacent[\"charger_distance\"] = adjacent[\"charger_distance_right\"] + adjacent.geometry.length + adjacent[\"closest_distance\"]\n",
    "        # Limit adjacents to shortest distance to a charger per segment\n",
    "        adjacent.sort_values('charger_distance', inplace=True)\n",
    "        adjacent = adjacent[~adjacent.index.duplicated()]\n",
    "        # Only consider segments that are now shorter\n",
    "        next_round = adjacent[adjacent[\"charger_distance\"] < adjacent[\"charger_distance_left\"] ]\n",
    "        next_round = next_round[ev_highways.columns]\n",
    "        ev_highways.loc[next_round.index, \"charger_distance\"] = next_round[\"charger_distance\"]\n",
    "        \n",
    "        changes = len(next_round) > 0\n",
    "        sum_distance = ev_highways[\"charger_distance\"].sum()\n",
    "        i += 1\n",
    "        print(f'{i} - changed: {len(next_round)} distances, sum distance={sum_distance}', end='\\r')\n",
    "\n",
    "    return ev_highways\n",
    "\n"
   ]
  },
  {
   "cell_type": "code",
   "execution_count": null,
   "id": "8e948541-dc1b-48d0-852e-d9f785e965d6",
   "metadata": {
    "tags": []
   },
   "outputs": [],
   "source": [
    "def categorize_distance(dist):\n",
    "    if dist * 2 <= min(50 * 1000, max_range * 1000 * 0.8 * 0.25):\n",
    "        return \"1 - Great\"\n",
    "    if dist * 2 <= min(100 * 1000, max_range * 1000 * 0.8 * 0.5):\n",
    "        return \"2 - Good\"\n",
    "    if dist * 2 <= min(200 * 1000, max_range * 1000 * 0.8 * 0.75):\n",
    "        return \"3 - Doable\"\n",
    "    if dist * 2 <= min(300 * 1000, max_range * 1000 * 0.8):\n",
    "        return \"4 - Hard\"\n",
    "    if dist * 2 <= min(350 * 1000, max_range * 1000 * 0.85):\n",
    "        return \"5 - Risky\"\n",
    "    return \"6 - Inaccessible\""
   ]
  },
  {
   "cell_type": "code",
   "execution_count": null,
   "id": "08e4eba5-6710-4ccb-9728-a76b20dc55d3",
   "metadata": {
    "tags": []
   },
   "outputs": [],
   "source": [
    "def draw_map(filtered_stations,\n",
    "             ev_highways,\n",
    "             station_count_df,\n",
    "             as_of=None,\n",
    "             provinces=provinces,\n",
    "             region='CA',\n",
    "             highway_options={'legend': False, 'cmap': 'YlGnBu_r'},\n",
    "             station_options={'markersize':0.7, 'color': 'xkcd:dark blue'},\n",
    "             dist_histogram_options={\n",
    "                 'show': True,\n",
    "                 'inset_axes': [0.75, 0.8, 0.25, 0.2],\n",
    "                 'xlim': (0, 40000),\n",
    "                 'xticks': [0, 10000, 20000, 30000],\n",
    "                 'unit': 'km',\n",
    "                 'x_label_position': 'bottom',\n",
    "             },\n",
    "             station_count_options={\n",
    "                 'show': True,\n",
    "                 'ylim': (0, 2000),\n",
    "                 'inset_axes': [0.045, 0.03, 0.3, 0.15],\n",
    "             },\n",
    "             filename=None,\n",
    "             figsize=(12.5,11),\n",
    "             title='Canadian Highways with EV Fast Charging'\n",
    "    ):\n",
    "    ev_highways = ev_highways.copy()\n",
    "    ev_highways['distance_cat'] = ev_highways['charger_distance'].apply(categorize_distance)\n",
    "    \n",
    "    ax = ev_highways.plot(column='distance_cat', figsize=figsize, **highway_options)\n",
    "    ax.get_xaxis().set_visible(False)\n",
    "    ax.get_yaxis().set_visible(False)\n",
    "    ax.set_title(title)\n",
    "\n",
    "    cmap = matplotlib.cm.YlGnBu_r\n",
    "\n",
    "    if dist_histogram_options.get('show', False):\n",
    "        axin1 = ax.inset_axes(dist_histogram_options.get('inset_axes'))\n",
    "\n",
    "        ev_highways['length_km'] = ev_highways.length / 1000\n",
    "        dist_table = ev_highways.groupby(['distance_cat'])['length_km'].sum()\n",
    "        distance_histogram = dist_table.plot(ax=axin1, kind='barh', color=[cmap(0), cmap(1/5), cmap(2/5), cmap(3/5), cmap(4/5), cmap(5/5)], edgecolor='gray')\n",
    "        distance_histogram.invert_yaxis()\n",
    "        distance_histogram.set_xlim(dist_histogram_options.get('xlim'))\n",
    "        distance_histogram.set_xticks(dist_histogram_options.get('xticks'))\n",
    "        distance_histogram.set_xlabel(dist_histogram_options.get('unit'))\n",
    "        axin1.xaxis.set_label_position(dist_histogram_options.get('x_label_position')) \n",
    "        if dist_histogram_options.get('x_label_position') == 'top':\n",
    "            axin1.xaxis.tick_top()\n",
    "        distance_histogram.set_ylabel('')\n",
    "        category_lables = ['Great', 'Good', 'Doable', 'Hard', 'Risky', 'Inaccessible']\n",
    "        distance_histogram.yaxis.set_major_formatter(lambda x, y: category_lables[x])\n",
    "\n",
    "    if station_count_df is not None and as_of is not None and station_count_options.get('show', False):\n",
    "        axin2 = ax.inset_axes(station_count_options.get('inset_axes'))\n",
    "        station_counts = station_count_df.copy()\n",
    "        station_counts.loc[station_counts.index.date > as_of, 'count'] = np.nan\n",
    "        station_count_chart = station_counts.plot(ax=axin2, legend=False)\n",
    "        station_count_chart.set_title(f'{as_of.strftime(\"%Y %b\")} - {len(filtered_stations)} stations', {'family': 'monospace'})\n",
    "        station_count_chart.set_ylim(station_count_options.get('ylim'))\n",
    "\n",
    "    provinces.plot(ax=ax, figsize=figsize, color='xkcd:cool gray', zorder=0)\n",
    "    provinces.boundary.plot(ax=ax, figsize=figsize, color='gray', linewidth=0.3, zorder=1)\n",
    "    \n",
    "    plot = filtered_stations.plot(ax=ax, figsize=figsize, **station_options)\n",
    "    plt.tight_layout()\n",
    "    if filename is None:\n",
    "        filename = f'monthly_ev_highways_{region}_{connector_type}_{max_range}_{end_of_month.strftime(\"%Y-%m\")}.png'\n",
    "    plot.get_figure().savefig(f'output/{filename}')\n",
    "    \n",
    "    plt.close('all')\n"
   ]
  },
  {
   "cell_type": "code",
   "execution_count": null,
   "id": "cbfa74c5-6275-4945-9f99-40503a4bbc7c",
   "metadata": {
    "tags": []
   },
   "outputs": [],
   "source": [
    "ev_highways = calculate_ev_highways(stations, highways)\n"
   ]
  },
  {
   "cell_type": "code",
   "execution_count": null,
   "id": "93918546-4e4f-4af9-bb38-fef94f1daae3",
   "metadata": {
    "tags": []
   },
   "outputs": [],
   "source": [
    "draw_map(stations, ev_highways, None, filename=f'ev_highways_CA_{connector_type}_{max_range}_today.png')\n"
   ]
  },
  {
   "cell_type": "code",
   "execution_count": null,
   "id": "57605269-6813-401b-a1e3-bcce4ce4864b",
   "metadata": {
    "tags": []
   },
   "outputs": [],
   "source": [
    "def export_ev_highways(ev_highways, country, connector_type):\n",
    "    ev_highways = ev_highways.copy()\n",
    "    ev_highways['rank'] = ev_highways['charger_distance'].apply(categorize_distance)\n",
    "    ev_highways['dist_km'] = ev_highways['charger_distance'].apply(lambda x: int(round(x / 1000)))\n",
    "    ev_highways.drop(columns=['charger_distance'], inplace=True)\n",
    "    # Simplify before exporting\n",
    "    ev_highways['geometry'] = ev_highways['geometry'].simplify(10)\n",
    "\n",
    "    ev_highways.to_crs(output_crs).to_file(f'maps/ev_highways_{country}_{connector_type}.geojson')\n",
    "\n"
   ]
  },
  {
   "cell_type": "code",
   "execution_count": null,
   "id": "d4875173-5b32-4c5a-a83a-8ad25b4bbc9f",
   "metadata": {
    "tags": []
   },
   "outputs": [],
   "source": [
    "export_ev_highways(ev_highways.drop(columns=['TYPE', 'PRNAME_L']).rename(columns={'NAME': 'Name', 'CSDNAME_R': 'Place'}), 'CA', connector_type)"
   ]
  },
  {
   "cell_type": "code",
   "execution_count": null,
   "id": "2565c301-e63e-4d50-acff-ac85b33d066d",
   "metadata": {
    "tags": []
   },
   "outputs": [],
   "source": [
    "def next_month(d):\n",
    "    return date(d.year, d.month + 1, 1) if d.month < 12 else date(d.year + 1, 1, 1)"
   ]
  },
  {
   "cell_type": "code",
   "execution_count": null,
   "id": "c0f2f4f6-d8d9-4672-9e37-6764b064f2e6",
   "metadata": {
    "tags": []
   },
   "outputs": [],
   "source": [
    "def calculate_station_count_df(stations):\n",
    "    stations = stations.copy()\n",
    "\n",
    "    start_date = stations[\"open_date\"].min()\n",
    "    end_date = date.today()\n",
    "\n",
    "    return pandas.DataFrame({\"count\": stations.groupby(\"open_date\")[\"id\"].count().reindex(pandas.date_range(start_date, end_date, freq='D'), fill_value=0).cumsum()})\n",
    "\n",
    "station_count_df = calculate_station_count_df(stations)\n",
    "station_count_df = station_count_df[station_count_df.index >= '2015-01-01']\n",
    "station_count_df.plot()"
   ]
  },
  {
   "cell_type": "code",
   "execution_count": null,
   "id": "bf3c16c5-8af8-44f0-ad22-16fb14e9ea8f",
   "metadata": {
    "tags": []
   },
   "outputs": [],
   "source": [
    "start_of_month = date(2015, 1, 1)\n",
    "\n",
    "ev_highways = None\n",
    "while start_of_month <= date.today():\n",
    "    end_of_month = next_month(start_of_month) - timedelta(days=1)\n",
    "    print(end_of_month.strftime(\"%Y-%m-%d\"))\n",
    "\n",
    "    filtered_stations = stations[stations[\"open_date\"] <= end_of_month]\n",
    "    \n",
    "    ev_highways = calculate_ev_highways(filtered_stations, highways, ev_highways)\n",
    "\n",
    "    draw_map(filtered_stations, ev_highways, station_count_df, end_of_month)\n",
    "    \n",
    "    start_of_month = next_month(start_of_month)\n",
    "    print()\n"
   ]
  },
  {
   "cell_type": "code",
   "execution_count": null,
   "id": "e097c037-77cb-4f24-b5fa-365a849bb7ca",
   "metadata": {
    "tags": []
   },
   "outputs": [],
   "source": [
    "def province_good_and_great(ev_highways):\n",
    "    ev_highways = ev_highways.copy()\n",
    "    ev_highways['distance_cat'] = ev_highways['charger_distance'].apply(categorize_distance)\n",
    "    ev_highways['length_km'] = ev_highways.length / 1000\n",
    "    \n",
    "    good_by_province = ev_highways.groupby([\"PRNAME_L\", \"distance_cat\"])[\"length_km\"].sum()\n",
    "    \n",
    "    by_prov = pandas.DataFrame(good_by_province).reset_index(level=1).pivot_table(index=[\"PRNAME_L\"], columns=\"distance_cat\", values=\"length_km\").fillna(0)\n",
    "    by_prov[\"good_%\"] = (by_prov[\"1 - Great\"] + by_prov[\"2 - Good\"]) / (by_prov[\"1 - Great\"] + by_prov[\"2 - Good\"] + by_prov[\"3 - Doable\"] + by_prov[\"4 - Hard\"] + by_prov[\"5 - Risky\"] + by_prov[\"6 - Inaccessible\"])\n",
    "    return pandas.merge(provinces, by_prov, how=\"left\", left_on=[\"PRNAME\"], right_on=[\"PRNAME_L\"]).fillna(0)\n"
   ]
  },
  {
   "cell_type": "code",
   "execution_count": null,
   "id": "a7c6efaa-eb46-4ae5-a378-c7e519bf6481",
   "metadata": {
    "tags": []
   },
   "outputs": [],
   "source": [
    "by_prov = province_good_and_great(ev_highways)\n",
    "by_prov\n"
   ]
  },
  {
   "cell_type": "code",
   "execution_count": null,
   "id": "52ba7ce4-1ef8-4b5c-adbb-9a2ed0f98ffe",
   "metadata": {
    "tags": []
   },
   "outputs": [],
   "source": [
    "ev_highways[\"good\"] = ev_highways[\"charger_distance\"] < 50*1000\n",
    "ev_highways"
   ]
  },
  {
   "cell_type": "code",
   "execution_count": null,
   "id": "815e09f8-ffc4-4929-a54f-a57688fb7f8f",
   "metadata": {
    "tags": []
   },
   "outputs": [],
   "source": [
    "ax = by_prov.plot(column=\"good_%\", cmap=\"Greens\", edgecolor=\"black\", linewidth=0.1, figsize=(12.5,11))\n",
    "ax.set_title(\"Percentage of Major Highways With Good EV Fast Charging By Province\")\n",
    "ax.get_xaxis().set_visible(False)\n",
    "ax.get_yaxis().set_visible(False)\n",
    "\n",
    "xy_overwrites = {\n",
    "    \"P.E.I.\": (8351561, 1680000),\n",
    "    \"N.S.\": (8650000, 1460000),\n",
    "    \"N.B.\": (8050000, 1290000),\n",
    "    \"Nvt.\": (6100000, 3200000),\n",
    "}\n",
    "\n",
    "def annotate_province_percentages(x):\n",
    "    if x[\"PREABBR\"] == 'Nvt.':\n",
    "        # skip as there are no major highways\n",
    "        return\n",
    "    xy = xy_overwrites.get(x[\"PREABBR\"], x.geometry.centroid.coords[0])\n",
    "    return ax.annotate(text=f\"{x['good_%']:.0%}\", xy=xy, ha=\"center\", fontsize=14)\n",
    "by_prov.apply(annotate_province_percentages, axis=1);\n",
    "ev_highways[ev_highways[\"good\"] == True].plot(ax=ax, linewidth=0.2, color=\"xkcd:electric blue\")\n",
    "plot = ev_highways[ev_highways[\"good\"] == False].plot(ax=ax, linewidth=0.2, color=\"xkcd:light grey\")\n",
    "plt.tight_layout()\n",
    "plot.get_figure().savefig(f\"output/ev_highways_CA_{connector_type}_good.png\")\n",
    "plot"
   ]
  },
  {
   "cell_type": "code",
   "execution_count": null,
   "id": "e9b10b38-daad-4abf-a53e-b8c9f1f672ff",
   "metadata": {
    "tags": []
   },
   "outputs": [],
   "source": [
    "# new_stations\n",
    "# Yorkton\n",
    "\n",
    "\n",
    "new_stations_df = pandas.DataFrame({\n",
    "    'City': ['Yorkton', 'Grande Prairie', 'Whitecourt', 'Boyle', 'Minnedosa', 'Prince Albert', 'McLeod Lake', 'Hanna', 'Kindersley', 'Winnard'],\n",
    "    'Province': ['SK', 'AB', 'AB', 'AB', 'MB', 'SK', 'BC', 'AB', 'SK', 'SK'],\n",
    "    'Latitude': [51.210516, 55.171337, 54.137583, 54.587165, 50.246068, 53.199422, 54.991843, 51.634314, 51.474346, 51.7687349],\n",
    "    'Longitude': [-102.448397, -118.821136, -115.686344, -112.803389, -99.839088, -105.759733, -123.034198, -111.942042, -109.168040, -104.1791185],\n",
    "    'Population': [16343, 63166, 9721, 845, 2449, 35926, 94, 2559, 4597, 1732],\n",
    "})\n",
    "\n",
    "new_stations = geopandas.GeoDataFrame(new_stations_df, geometry=geopandas.points_from_xy(new_stations_df.Longitude, new_stations_df.Latitude))\n",
    "new_stations.crs = \"EPSG:4326\"\n",
    "new_stations = new_stations.to_crs(mapping_crs)\n",
    "new_stations"
   ]
  },
  {
   "cell_type": "code",
   "execution_count": null,
   "id": "072f4cdb-9012-4092-a143-ef0b1a1d358e",
   "metadata": {},
   "outputs": [],
   "source": [
    "fantasy_stations = pandas.concat([stations[[\"geometry\"]], new_stations[[\"geometry\"]]])\n",
    "fantasy_ev_highways = calculate_ev_highways(fantasy_stations, highways, ev_highways)\n"
   ]
  },
  {
   "cell_type": "code",
   "execution_count": null,
   "id": "862c0472-4079-40ea-b5c8-c646655a238f",
   "metadata": {},
   "outputs": [],
   "source": [
    "draw_map(new_stations, fantasy_ev_highways, None, filename=f'ev_highways_{connector_type}_{max_range}_fantasy.png', station_options={\"markersize\":15.0, \"color\": \"xkcd:coral\"}, title=\"Fantasy EV Fast Charging (10 Extra Stations)\")"
   ]
  },
  {
   "cell_type": "code",
   "execution_count": null,
   "id": "d7e8b88e-25ad-4230-8f60-3f261b11003e",
   "metadata": {},
   "outputs": [],
   "source": [
    "# US Map"
   ]
  },
  {
   "cell_type": "code",
   "execution_count": null,
   "id": "6e3af808-6487-4896-835b-982786248149",
   "metadata": {},
   "outputs": [],
   "source": [
    "# Switch to a better projection for the US\n",
    "mapping_crs = \"EPSG:3857\" # Pseudo-Mercator\n"
   ]
  },
  {
   "cell_type": "code",
   "execution_count": null,
   "id": "a910ec09-6113-4e98-b961-b34e0c808372",
   "metadata": {},
   "outputs": [],
   "source": [
    "def get_us_highways(refresh_cache=False):\n",
    "    local_path = \"data/us_highways.shp\"\n",
    "    remote_path = \"https://www2.census.gov/geo/tiger/TIGER2022/PRIMARYROADS/tl_2022_us_primaryroads.zip\"\n",
    "    return load_geodataset(remote_path, local_path, refresh_cache=refresh_cache).to_crs(mapping_crs)\n"
   ]
  },
  {
   "cell_type": "code",
   "execution_count": null,
   "id": "f4121e9d-e15a-4a39-9479-e33bb1ca40ad",
   "metadata": {},
   "outputs": [],
   "source": [
    "def load_wikipedia_map(map_title):\n",
    "    url = f'https://en.wikipedia.org/w/api.php?format=json&formatversion=2&action=jsondata&title={urllib.parse.quote(map_title)}'\n",
    "    print(url)\n",
    "    response = urllib.request.urlopen(url)\n",
    "    data = json.loads(response.read())\n",
    "    return geopandas.GeoDataFrame.from_features(data[\"jsondata\"][\"data\"])\n"
   ]
  },
  {
   "cell_type": "code",
   "execution_count": null,
   "id": "f14ed544-d0e4-4406-b4b0-b32517d9d722",
   "metadata": {},
   "outputs": [],
   "source": [
    "# The map here is nicer than the Census one\n",
    "# https://en.wikipedia.org/wiki/List_of_Interstate_Highways#/map/0\n",
    "def get_us_highways_from_wikipedia(refresh_cache=False):\n",
    "    local_path = \"data/us_highways_wikipedia.shp\"\n",
    "    remote_maps = [\n",
    "        'Interstate 2.map',\n",
    "        'Interstate 4.map',\n",
    "        'Interstate 5.map',\n",
    "        'Interstate 8.map',\n",
    "        'Interstate 10.map',\n",
    "        'Interstate 11.map',\n",
    "        'Interstate 12.map',\n",
    "        'Interstate 14.map',\n",
    "        'Interstate 15.map',\n",
    "        'Interstate 16.map',\n",
    "        'Interstate 17.map',\n",
    "        'Interstate 19.map',\n",
    "        'Interstate 20.map',\n",
    "        'Interstate 22.map',\n",
    "        'Interstate 24.map',\n",
    "        'Interstate 25.map',\n",
    "        'Interstate 26.map',\n",
    "        'Interstate 27.map',\n",
    "        'Interstate 29.map',\n",
    "        'Interstate 30.map',\n",
    "        'Interstate 35.map',\n",
    "        'Interstate 37.map',\n",
    "        'Interstate 39.map',\n",
    "        'Interstate 40.map',\n",
    "        'Interstate 41.map',\n",
    "        'Interstate 43.map',\n",
    "        'Interstate 44.map',\n",
    "        'Interstate 45.map',\n",
    "        'Interstate 49 1.map',\n",
    "        'Interstate 55.map',\n",
    "        'Interstate 57.map',\n",
    "        'Interstate 59.map',\n",
    "        'Interstate 64.map',\n",
    "        'Interstate 65.map',\n",
    "        'Interstate 66.map',\n",
    "        'Interstate 68.map',\n",
    "        'Interstate 69.map',\n",
    "        'Interstate 70.map',\n",
    "        'Interstate 71.map',\n",
    "        'Interstate 72.map',\n",
    "        'Interstate 73.map',\n",
    "        'Interstate 74.map',\n",
    "        'Interstate 75.map',\n",
    "        'Interstate 76 (Ohio–New Jersey).map',\n",
    "        'Interstate 76 (Colorado–Nebraska).map',\n",
    "        'Interstate 77.map',\n",
    "        'Interstate 78.map',\n",
    "        'Interstate 79.map',\n",
    "        'Interstate 80.map',\n",
    "        'Interstate 81.map',\n",
    "        'Interstate 82.map',\n",
    "        'Interstate 83.map',\n",
    "        'Interstate 84 (Oregon–Utah).map',\n",
    "        'Interstate 84 (Pennsylvania–Massachusetts).map',\n",
    "        'Interstate 85.map',\n",
    "        'Interstate 86 (Idaho).map',\n",
    "        'Interstate 86 (Pennsylvania–New York).map',\n",
    "        'Interstate 87 (North Carolina).map',\n",
    "        'Interstate 87 (New York).map',\n",
    "        'Interstate 88 (Illinois).map',\n",
    "        'Interstate 88 (New York).map',\n",
    "        'Interstate 89.map',\n",
    "        'Interstate 90.map',\n",
    "        'Interstate 91.map',\n",
    "        'Interstate 93.map',\n",
    "        'Interstate 94.map',\n",
    "        'Interstate 95.map',\n",
    "        'Interstate 96.map',\n",
    "        'Interstate 97.map',\n",
    "        'Interstate 99.map',\n",
    "        'Interstate 35W (Texas).map',\n",
    "        'Interstate 35W (Minnesota).map',\n",
    "    ]\n",
    "    \n",
    "    df = None\n",
    "    if not refresh_cache:\n",
    "        try:\n",
    "            df = geopandas.read_file(local_path)\n",
    "        except Exception as e:\n",
    "            print(e)\n",
    "    \n",
    "    if df is None:\n",
    "        print(f\"Loading remote files\")\n",
    "        df = pandas.concat([load_wikipedia_map(remote_map) for remote_map in remote_maps])\n",
    "        df.crs = \"EPSG:4326\"\n",
    "\n",
    "        # Cleanup the data\n",
    "        df.reset_index(inplace=True)\n",
    "        df.loc[df[\"name\"].isna(), \"name\"] = df[\"Name\"]\n",
    "        df = df[[\"name\", \"geometry\"]]\n",
    "\n",
    "        print(f\"Saving to {local_path}\")\n",
    "        df.to_file(local_path)\n",
    "            \n",
    "    return df.to_crs(mapping_crs)\n",
    "    "
   ]
  },
  {
   "cell_type": "code",
   "execution_count": null,
   "id": "8fa347e9-6249-4c54-962c-405376629271",
   "metadata": {},
   "outputs": [],
   "source": [
    "us_highways = get_us_highways_from_wikipedia()"
   ]
  },
  {
   "cell_type": "code",
   "execution_count": null,
   "id": "359505aa-dd59-40a2-a61d-eb013d25de63",
   "metadata": {},
   "outputs": [],
   "source": [
    "# Explode highway segments into 5 km chunks (they're too long by default)\n",
    "def split_highways(highways, max_length=5000):\n",
    "    def split_geometry(geom, max_distance=5000):\n",
    "        return [shapely.ops.substring(geom, i, i + max_distance) for i in range(0, int(geom.length), max_distance)]\n",
    "\n",
    "    us_highways['split_geometry'] = us_highways['geometry'].apply(split_geometry)\n",
    "    split_df = geopandas.GeoDataFrame([{'name': tup.name, 'geometry': geom} for tup in us_highways.itertuples() for geom in tup.split_geometry])\n",
    "    split_df.crs = highways.crs\n",
    "    return split_df"
   ]
  },
  {
   "cell_type": "code",
   "execution_count": null,
   "id": "804f8bbb-d033-4abd-b66b-b3c80f0aa852",
   "metadata": {},
   "outputs": [],
   "source": [
    "us_highways = split_highways(us_highways)"
   ]
  },
  {
   "cell_type": "code",
   "execution_count": null,
   "id": "be41e164-83ca-4f9c-b723-8f82f4034fdf",
   "metadata": {},
   "outputs": [],
   "source": [
    "us_highways.plot()"
   ]
  },
  {
   "cell_type": "code",
   "execution_count": null,
   "id": "de5e3b2f-9cff-400b-a52f-f4a6568af081",
   "metadata": {},
   "outputs": [],
   "source": [
    "def get_states(refresh_cache=False):\n",
    "    remote_path = \"https://www2.census.gov/geo/tiger/GENZ2018/shp/cb_2018_us_state_20m.zip\"\n",
    "    local_path = \"data/states.shp\"\n",
    "    return load_geodataset(remote_path, local_path, refresh_cache=refresh_cache).to_crs(mapping_crs)"
   ]
  },
  {
   "cell_type": "code",
   "execution_count": null,
   "id": "8f17565d-a5a5-4782-8650-1c22c42ac651",
   "metadata": {},
   "outputs": [],
   "source": [
    "states = get_states()"
   ]
  },
  {
   "cell_type": "code",
   "execution_count": null,
   "id": "8440815b-37ae-4686-820f-9998b7b76bbe",
   "metadata": {},
   "outputs": [],
   "source": [
    "# connector_type = 'TESLA'"
   ]
  },
  {
   "cell_type": "code",
   "execution_count": null,
   "id": "db6401bd-6f49-4404-973a-473c7d43df9d",
   "metadata": {},
   "outputs": [],
   "source": [
    "us_stations = get_stations(connector_type, country=\"US\")\n",
    "us_stations"
   ]
  },
  {
   "cell_type": "code",
   "execution_count": null,
   "id": "6fbed0c6-20ea-40bd-b03e-28a902f98600",
   "metadata": {},
   "outputs": [],
   "source": [
    "us_stations.to_crs(output_crs).to_file(f\"maps/stations_map_US_{connector_type}.geojson\")"
   ]
  },
  {
   "cell_type": "code",
   "execution_count": null,
   "id": "69163d5b-ea21-402b-bd3f-e8074fc07c0e",
   "metadata": {},
   "outputs": [],
   "source": [
    "us_stations[\"open_date\"] = us_stations[\"open_date\"].apply(lambda x: (date.fromisoformat(x) if x is not None else date.today()))"
   ]
  },
  {
   "cell_type": "code",
   "execution_count": null,
   "id": "b93d4f5d-a93f-4ca1-9112-ee7421c69880",
   "metadata": {},
   "outputs": [],
   "source": [
    "ax = us_stations.plot(color='g', markersize=10)\n",
    "us_highways.plot(ax=ax)"
   ]
  },
  {
   "cell_type": "code",
   "execution_count": null,
   "id": "9080defd-7259-4eea-818f-cfc644cfb248",
   "metadata": {},
   "outputs": [],
   "source": [
    "us_ev_highways = calculate_ev_highways(us_stations, us_highways)\n"
   ]
  },
  {
   "cell_type": "code",
   "execution_count": null,
   "id": "bc96bd7a-e64b-4619-9c0f-811fe22eada8",
   "metadata": {},
   "outputs": [],
   "source": [
    "us_ev_highways.plot(column='charger_distance')"
   ]
  },
  {
   "cell_type": "code",
   "execution_count": null,
   "id": "4465d0a2-c131-4504-bca5-00cd2e946403",
   "metadata": {},
   "outputs": [],
   "source": [
    "export_ev_highways(us_ev_highways, 'US', connector_type)"
   ]
  },
  {
   "cell_type": "code",
   "execution_count": null,
   "id": "d99c8f45-e58a-405f-8ae3-e1fa3405aa40",
   "metadata": {},
   "outputs": [],
   "source": [
    "non_continental_states = [\"AK\", \"HI\", \"PR\"]"
   ]
  },
  {
   "cell_type": "code",
   "execution_count": null,
   "id": "cf3faa9a-8fae-4d06-9917-2da05ca19432",
   "metadata": {},
   "outputs": [],
   "source": [
    "continental_states = states[~states[\"STUSPS\"].isin(non_continental_states)]\n",
    "continental_states.plot()"
   ]
  },
  {
   "cell_type": "code",
   "execution_count": null,
   "id": "d975e2f6-f73d-48b8-9fd0-8908ac9278e3",
   "metadata": {},
   "outputs": [],
   "source": [
    "def interstate_good_and_great(ev_highways):\n",
    "    ev_highways = ev_highways.copy()\n",
    "    ev_highways['distance_cat'] = ev_highways['charger_distance'].apply(categorize_distance)\n",
    "    ev_highways['length_km'] = ev_highways.length / 1000\n",
    "\n",
    "    good_groupby = ev_highways.groupby([\"name\", \"distance_cat\"])[\"length_km\"].sum()\n",
    "    by_name = pandas.DataFrame(good_groupby).reset_index(level=1).pivot_table(index=[\"name\"], columns=\"distance_cat\", values=\"length_km\").fillna(0)\n",
    "    by_name[\"good_%\"] = (by_name[\"1 - Great\"] + by_name[\"2 - Good\"]) / (by_name[\"1 - Great\"] + by_name[\"2 - Good\"] + by_name[\"3 - Doable\"] + by_name[\"4 - Hard\"] + by_name[\"5 - Risky\"] + by_name[\"6 - Inaccessible\"])\n",
    "    return by_name\n",
    "\n",
    "interstate_summary = interstate_good_and_great(us_ev_highways)\n",
    "pandas.set_option('display.max_rows', 100)\n",
    "interstate_summary\n"
   ]
  },
  {
   "cell_type": "code",
   "execution_count": null,
   "id": "a35245bd-e3e2-4293-9e61-3808634f5085",
   "metadata": {},
   "outputs": [],
   "source": [
    "continental_us_stations = us_stations[(~us_stations[\"state\"].isin(non_continental_states)) & (~us_stations[\"state\"].isna())]\n",
    "continental_us_stations.plot()"
   ]
  },
  {
   "cell_type": "code",
   "execution_count": null,
   "id": "8cef8349-1671-4e88-9245-642098f6381f",
   "metadata": {},
   "outputs": [],
   "source": [
    "draw_map(\n",
    "    continental_us_stations,\n",
    "    us_ev_highways,\n",
    "    None,\n",
    "    provinces=continental_states,\n",
    "    dist_histogram_options={'show': False},\n",
    "    station_count_options={'show':False},\n",
    "    figsize=(15,8.5),\n",
    "    title='Interstate Highways with EV Fast Charging Map',\n",
    "    filename=f'ev_highways_US_{connector_type}_today.png'\n",
    ")\n"
   ]
  },
  {
   "cell_type": "code",
   "execution_count": null,
   "id": "db228783-14f0-4329-8900-4fb1ac9b6008",
   "metadata": {},
   "outputs": [],
   "source": [
    "us_station_count_df = calculate_station_count_df(us_stations)\n",
    "us_station_count_df = us_station_count_df[us_station_count_df.index >= '2015-01-01']\n",
    "us_station_count_df.plot()"
   ]
  },
  {
   "cell_type": "code",
   "execution_count": null,
   "id": "9fcd8957-9603-4da2-b1fa-f9067d2fae5c",
   "metadata": {},
   "outputs": [],
   "source": [
    "start_of_month = date(2015, 1, 1)\n",
    "\n",
    "us_ev_highways = None\n",
    "while start_of_month <= date.today():\n",
    "    end_of_month = next_month(start_of_month) - timedelta(days=1)\n",
    "    print(end_of_month.strftime(\"%Y-%m-%d\"))\n",
    "    \n",
    "    filtered_stations = continental_us_stations[continental_us_stations[\"open_date\"] <= end_of_month]\n",
    "    \n",
    "    us_ev_highways = calculate_ev_highways(filtered_stations, us_highways, us_ev_highways)\n",
    "\n",
    "    draw_map(filtered_stations,\n",
    "             us_ev_highways,\n",
    "             us_station_count_df,\n",
    "             end_of_month,\n",
    "             provinces=continental_states,\n",
    "             figsize=(15,8.5),\n",
    "             title='Interstate Highways with EV Fast Charging',\n",
    "             region = 'US',\n",
    "             dist_histogram_options={\n",
    "                 'show': True,\n",
    "                 'inset_axes': [0.80, 0.0, 0.20, 0.25],\n",
    "                 'xlim': (0, 50000),\n",
    "                 'xticks': range(0, 50000, 20000),\n",
    "                 'unit': 'miles',\n",
    "                 'x_label_position': 'top',\n",
    "             },\n",
    "             station_count_options={\n",
    "                 'show': True,\n",
    "                 'ylim': (0, 8000),\n",
    "                 'inset_axes': [0.045, 0.036, 0.3, 0.15],\n",
    "             },\n",
    "    )\n",
    "    \n",
    "    start_of_month = next_month(start_of_month)\n",
    "    print()"
   ]
  },
  {
   "cell_type": "code",
   "execution_count": null,
   "id": "49f7c9ed-c1cd-42e8-b8de-7a4b088439ed",
   "metadata": {},
   "outputs": [],
   "source": []
  }
 ],
 "metadata": {
  "kernelspec": {
   "display_name": "Python 3 (ipykernel)",
   "language": "python",
   "name": "python3"
  },
  "language_info": {
   "codemirror_mode": {
    "name": "ipython",
    "version": 3
   },
   "file_extension": ".py",
   "mimetype": "text/x-python",
   "name": "python",
   "nbconvert_exporter": "python",
   "pygments_lexer": "ipython3",
   "version": "3.9.19"
  }
 },
 "nbformat": 4,
 "nbformat_minor": 5
}
