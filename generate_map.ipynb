{
 "cells": [
  {
   "cell_type": "code",
   "execution_count": null,
   "id": "e4c8967d-d1a9-40a1-98e0-f7387f8d64ae",
   "metadata": {},
   "outputs": [],
   "source": [
    "import geopandas\n",
    "from urllib.request import urlopen\n",
    "import json\n",
    "import pandas\n",
    "from datetime import date, timedelta\n",
    "import matplotlib\n",
    "import matplotlib.pyplot as plt\n",
    "import numpy as np\n",
    "\n",
    "\n"
   ]
  },
  {
   "cell_type": "code",
   "execution_count": null,
   "id": "fc1577fb-80dd-48d7-86ac-916a18768e6e",
   "metadata": {},
   "outputs": [],
   "source": [
    "import fiona;\n",
    "fiona.supported_drivers\n"
   ]
  },
  {
   "cell_type": "code",
   "execution_count": null,
   "id": "77dd23de-0b27-4f68-a0c0-2f06f83ad13b",
   "metadata": {},
   "outputs": [],
   "source": [
    "mapping_crs = \"EPSG:3347\" # NAD83 / Statistics Canada Lambert\n",
    "# mapping_crs = \"EPSG:3857\" # Pseudo-Mercator\n",
    "output_crs = \"EPSG:4326\" # Lat/Lng https://epsg.io/4326"
   ]
  },
  {
   "cell_type": "code",
   "execution_count": null,
   "id": "8b8e09c1-427b-44db-b16e-218604f18256",
   "metadata": {},
   "outputs": [],
   "source": [
    "def load_geodataset(remote_path, local_path, simplify=None, refresh_cache=False):\n",
    "    df = None\n",
    "    if not refresh_cache:\n",
    "        try:\n",
    "            df = geopandas.read_file(local_path)\n",
    "        except Exception as e:\n",
    "            print(e)\n",
    "    \n",
    "    if df is None:\n",
    "        print(f\"Loading {remote_path}\")\n",
    "        df = geopandas.read_file(remote_path)\n",
    "        if simplify:\n",
    "            df[\"geometry\"] = df[\"geometry\"].simplify(simplify)\n",
    "\n",
    "        print(f\"Saving to {local_path}\")\n",
    "        df.to_file(local_path)\n",
    "\n",
    "    return df"
   ]
  },
  {
   "cell_type": "code",
   "execution_count": null,
   "id": "b2b699c2-74af-4d32-bfbf-26e438516660",
   "metadata": {},
   "outputs": [],
   "source": [
    "def get_roads(refresh_cache=False):\n",
    "    remote_path = \"https://www12.statcan.gc.ca/census-recensement/2021/geo/sip-pis/RNF-FRR/files-fichiers/lrnf000r21a_e.zip\"\n",
    "    local_path = \"data/roads.shp\"\n",
    "    return load_geodataset(remote_path, local_path, refresh_cache=refresh_cache)\n"
   ]
  },
  {
   "cell_type": "code",
   "execution_count": null,
   "id": "62a7f709-ae69-41ee-8fd0-bd3198aabd0f",
   "metadata": {},
   "outputs": [],
   "source": [
    "def get_highways(refresh_cache=False, columns=[\"NAME\", \"TYPE\", \"CSDNAME_R\", \"PRNAME_L\", \"geometry\"]):\n",
    "    local_path = \"data/highways.shp\"\n",
    "    \n",
    "    highways = None\n",
    "    if not refresh_cache:\n",
    "        try:\n",
    "            highways = geopandas.read_file(local_path)\n",
    "        except Exception as e:\n",
    "            print(e)\n",
    "    \n",
    "    if highways is None:\n",
    "        roads = get_roads(refresh_cache)\n",
    "        highways = roads.query('RANK <= \"2\"')\n",
    "        print(f\"Saving to {local_path}\")\n",
    "        highways.to_file(local_path)\n",
    "\n",
    "    return highways[columns].to_crs(mapping_crs)\n"
   ]
  },
  {
   "cell_type": "code",
   "execution_count": null,
   "id": "8a87f46a-00e2-48f2-9221-f519fac6f364",
   "metadata": {},
   "outputs": [],
   "source": [
    "# this is very slow the first time you run it (downloads a 296 MB zipfile), but it saves a smaller local version for future runs (139 MB)\n",
    "highways = get_highways()\n",
    "highways"
   ]
  },
  {
   "cell_type": "code",
   "execution_count": null,
   "id": "21e97c5b-e0c4-41a9-9921-83702818fdd6",
   "metadata": {},
   "outputs": [],
   "source": [
    "highways.plot()"
   ]
  },
  {
   "cell_type": "code",
   "execution_count": null,
   "id": "296c66ef-5a12-47a8-b060-8eb02ac934b0",
   "metadata": {},
   "outputs": [],
   "source": [
    "def get_provinces(refresh_cache=False):\n",
    "    remote_path = \"https://www12.statcan.gc.ca/census-recensement/2011/geo/bound-limit/files-fichiers/2016/lpr_000b16a_e.zip\"\n",
    "    local_path = \"data/provinces.shp\"\n",
    "    # simplify=1000 turns a 54 MB file to a 3 MB file\n",
    "    return load_geodataset(remote_path, local_path, simplify=1000, refresh_cache=refresh_cache)"
   ]
  },
  {
   "cell_type": "code",
   "execution_count": null,
   "id": "05d48c28-5dec-4380-9496-80ce220d52f3",
   "metadata": {},
   "outputs": [],
   "source": [
    "provinces = get_provinces()\n",
    "provinces.plot()"
   ]
  },
  {
   "cell_type": "code",
   "execution_count": null,
   "id": "ffa4f052-8e12-4dc5-a86b-1ded1a5b05af",
   "metadata": {},
   "outputs": [],
   "source": [
    "# connector_type: [all, NEMA1450, NEMA515, NEMA520, J1772, J1772COMBO, CHADEMO, TESLA]\n",
    "def get_stations(connector_type=\"J1772COMBO\", country=\"CA\", refresh_cache=False):\n",
    "    remote_path=f\"https://developer.nrel.gov/api/alt-fuel-stations/v1.geojson?api_key=JDgwj9XoVgfg8ryEgz1AOnnBbfoLATWjy4x6dOlv&country={country}&owner_type=all&cards_accepted=all&offset=0&fuel_type=ELEC&access=public&status=E&ev_charging_level=dc_fast&ev_connector_type={connector_type}&ev_network=all\"\n",
    "    local_path=f\"data/stations_{country}_{connector_type}.shp\"\n",
    "\n",
    "    stations = None\n",
    "    if not refresh_cache:\n",
    "        try:\n",
    "            stations = geopandas.read_file(local_path)\n",
    "        except Exception as e:\n",
    "            print(e)\n",
    "    \n",
    "    if stations is None:\n",
    "        print(f\"Loading {remote_path}\")\n",
    "        stations = geopandas.read_file(remote_path)\n",
    "        stations.crs = \"EPSG:4326\"\n",
    "        columns=[\"id\", \"open_date\", \"status_code\", \"station_name\",\n",
    "           \"city\", \"state\", \"street_address\", \"ev_network\", \"geometry\"]\n",
    "        stations = stations[columns]\n",
    "        print(f\"Saving to {local_path}\")\n",
    "        stations.to_file(local_path)\n",
    "\n",
    "    return stations.to_crs(mapping_crs)\n",
    "\n",
    "    \n",
    "    "
   ]
  },
  {
   "cell_type": "code",
   "execution_count": null,
   "id": "8c0f2def-c4e4-4d9d-a573-f184a7976c34",
   "metadata": {},
   "outputs": [],
   "source": [
    "# Hyudani Kona - CCS Combo - 415 km\n",
    "# Hyudani Ioniq 5 - CCS Combo - 354 km\n",
    "# Hyudani Ioniq 5 Long Range - CCS Combo - 488 km\n",
    "# Nissan Leaf - Chademo 349 km\n",
    "# Telsa Model 3 Standard Range - 401 km\n",
    "# Tesla Model 3 Extended Range - 518 km\n",
    "\n",
    "connector_type= \"J1772COMBO\" # one of [\"CHADEMO\", \"J1772COMBO\", \"TESLA\"]\n",
    "max_range = 415"
   ]
  },
  {
   "cell_type": "code",
   "execution_count": null,
   "id": "3937bba5-30ef-4eb7-85af-834137d43e16",
   "metadata": {},
   "outputs": [],
   "source": [
    "stations = get_stations(connector_type, highways.crs)\n",
    "stations"
   ]
  },
  {
   "cell_type": "code",
   "execution_count": null,
   "id": "291bcaf7-5162-4201-97f1-85129cec6d97",
   "metadata": {},
   "outputs": [],
   "source": [
    "stations.to_crs(output_crs).to_file(f\"maps/stations_map_{connector_type}.geojson\")"
   ]
  },
  {
   "cell_type": "code",
   "execution_count": null,
   "id": "c62175b3-a248-4e67-9e5c-0331cf88a713",
   "metadata": {},
   "outputs": [],
   "source": [
    "stations.plot()"
   ]
  },
  {
   "cell_type": "code",
   "execution_count": null,
   "id": "51802a7a-90b4-46c0-a7d6-ca1fbef327ee",
   "metadata": {},
   "outputs": [],
   "source": [
    "ax = stations.plot(color='g', markersize=10)\n",
    "highways.plot(ax=ax)"
   ]
  },
  {
   "cell_type": "code",
   "execution_count": null,
   "id": "223969d1-0bae-4a7a-9f4c-51af57c2978c",
   "metadata": {},
   "outputs": [],
   "source": [
    "# Method 1 for finding close stations - keep adding adjacent segments next to each EV\n",
    "def find_stations_old_method():\n",
    "    close_stations = geopandas.sjoin_nearest(highways, stations[[\"geometry\"]], how='left', distance_col='charger_distance', max_distance=5000)\n",
    "    close_stations = close_stations.drop(['index_right'], axis=1)\n",
    "\n",
    "    found = close_stations[close_stations.charger_distance >= 0]\n",
    "    not_found = close_stations[close_stations.charger_distance.isna()]\n",
    "    f\"{len(found)} / {len(not_found)}\"\n",
    "\n",
    "    changes = True\n",
    "    tolerance = 0.1\n",
    "    i = 0\n",
    "\n",
    "    while changes and len(not_found) > 0:\n",
    "        adjacent = geopandas.sjoin_nearest(not_found.drop([\"charger_distance\"], axis=1), found[[\"geometry\", \"charger_distance\"]], how='left', distance_col='closest_distance', max_distance=tolerance)\n",
    "        adjacent[\"charger_distance\"] = adjacent[\"charger_distance\"] + adjacent.geometry.length + adjacent[\"closest_distance\"]\n",
    "        adjacent = adjacent[found.columns]\n",
    "        changes = len(adjacent[adjacent.charger_distance >= 0]) > 0\n",
    "        found = pandas.concat([found, adjacent[adjacent.charger_distance >= 0]])\n",
    "        not_found = adjacent[adjacent.charger_distance.isna()]\n",
    "        i += 1\n",
    "        if i % 100 == 0:\n",
    "            print(f\"{len(found)} / {len(not_found)}\")\n",
    "    print(f\"{len(found)} / {len(not_found)}\")\n",
    "\n",
    "    not_found[\"charger_distance\"] = 999999\n",
    "    found = pandas.concat([found, not_found])\n",
    "    return found\n",
    "\n",
    "# found = find_stations_old_method()"
   ]
  },
  {
   "cell_type": "code",
   "execution_count": null,
   "id": "23599467-516c-45e8-8cae-ba298197db0e",
   "metadata": {},
   "outputs": [],
   "source": [
    "# Method 2 for finding close stations - look at adjacent stations and find minimum path to a charger\n",
    "def calculate_ev_highways(stations, highways, ev_highways=None):\n",
    "    close_stations = geopandas.sjoin_nearest(highways, stations[[\"geometry\"]], how='left', distance_col='charger_distance', max_distance=5000)\n",
    "    close_stations = close_stations.drop(['index_right'], axis=1)\n",
    "\n",
    "    if ev_highways is None:\n",
    "        max_distance = 499999 # We don't care about roads more than 500 kms away from a station\n",
    "        ev_highways = highways.copy()\n",
    "        ev_highways[\"charger_distance\"] = max_distance\n",
    "    \n",
    "    next_round = close_stations[close_stations[\"charger_distance\"] >= 0]\n",
    "    ev_highways.loc[next_round.index, \"charger_distance\"] = next_round[\"charger_distance\"]\n",
    "\n",
    "    changes = True\n",
    "    tolerance = 0.1\n",
    "    i = 0\n",
    "\n",
    "    while changes:\n",
    "        adjacent = geopandas.sjoin_nearest(ev_highways[[\"geometry\", \"charger_distance\"]], next_round, how='left', distance_col=\"closest_distance\", max_distance=tolerance)\n",
    "        adjacent = adjacent[~adjacent[\"closest_distance\"].isna()]\n",
    "        adjacent[\"charger_distance\"] = adjacent[\"charger_distance_right\"] + adjacent.geometry.length + adjacent[\"closest_distance\"]\n",
    "        # Limit adjacents to shortest distance to a charger per segment\n",
    "        adjacent.sort_values('charger_distance', inplace=True)\n",
    "        adjacent = adjacent[~adjacent.index.duplicated()]\n",
    "        # Only consider segments that are now shorter\n",
    "        next_round = adjacent[adjacent[\"charger_distance\"] < adjacent[\"charger_distance_left\"] ]\n",
    "        next_round = next_round[ev_highways.columns]\n",
    "        ev_highways.loc[next_round.index, \"charger_distance\"] = next_round[\"charger_distance\"]\n",
    "        \n",
    "        changes = len(next_round) > 0\n",
    "        sum_distance = ev_highways[\"charger_distance\"].sum()\n",
    "        i += 1\n",
    "        print(f'{i} - changed: {len(next_round)} distances, sum distance={sum_distance}', end='\\r')\n",
    "\n",
    "    return ev_highways\n",
    "\n"
   ]
  },
  {
   "cell_type": "code",
   "execution_count": null,
   "id": "8e948541-dc1b-48d0-852e-d9f785e965d6",
   "metadata": {},
   "outputs": [],
   "source": [
    "def categorize_distance(dist):\n",
    "    if dist * 2 <= min(50 * 1000, max_range * 1000 * 0.8 * 0.25):\n",
    "        return \"1 - Great\"\n",
    "    if dist * 2 <= min(100 * 1000, max_range * 1000 * 0.8 * 0.5):\n",
    "        return \"2 - Good\"\n",
    "    if dist * 2 <= min(200 * 1000, max_range * 1000 * 0.8 * 0.75):\n",
    "        return \"3 - Doable\"\n",
    "    if dist * 2 <= min(300 * 1000, max_range * 1000 * 0.8):\n",
    "        return \"4 - Hard\"\n",
    "    if dist * 2 <= min(350 * 1000, max_range * 1000 * 0.85):\n",
    "        return \"5 - Risky\"\n",
    "    return \"6 - Inaccessible\""
   ]
  },
  {
   "cell_type": "code",
   "execution_count": null,
   "id": "08e4eba5-6710-4ccb-9728-a76b20dc55d3",
   "metadata": {},
   "outputs": [],
   "source": [
    "def draw_map(filtered_stations,\n",
    "             ev_highways,\n",
    "             station_count_df,\n",
    "             as_of_date=None,\n",
    "             provinces=provinces,\n",
    "             highway_options={'legend': False, 'cmap': 'YlGnBu_r'},\n",
    "             station_options={'markersize':0.7, 'color': 'xkcd:dark blue'},\n",
    "             dist_histogram_options={\n",
    "                 'show': True,\n",
    "                 'inset_axes': [0.75, 0.8, 0.25, 0.2],\n",
    "                 'xlim': (0, 40000),\n",
    "                 'xticks': [0, 10000, 20000, 30000],\n",
    "             },\n",
    "             station_count_options={\n",
    "                 'show': True,\n",
    "                 'inset_axes': [0.045, 0.03, 0.3, 0.15],\n",
    "             },\n",
    "             filename=None,\n",
    "             title='Canadian Highways with EV Fast Charging'\n",
    "    ):\n",
    "    ev_highways = ev_highways.copy()\n",
    "    ev_highways['distance_cat'] = ev_highways['charger_distance'].apply(categorize_distance)\n",
    "    ev_highways['length_km'] = ev_highways.length / 1000\n",
    "    \n",
    "    figsize = (15,11)\n",
    "    ax = ev_highways.plot(column='distance_cat', figsize=figsize, **highway_options)\n",
    "    ax.get_xaxis().set_visible(False)\n",
    "    ax.get_yaxis().set_visible(False)\n",
    "    ax.set_title(title)\n",
    "\n",
    "    cmap = matplotlib.cm.get_cmap('YlGnBu_r')\n",
    "\n",
    "    if dist_histogram_options.get('show', False):\n",
    "        axin1 = ax.inset_axes(dist_histogram_options.get('inset_axes'))\n",
    "\n",
    "        dist_table = ev_highways.groupby(['distance_cat'])['length_km'].sum()\n",
    "        distance_histogram = dist_table.plot(ax=axin1, kind='barh', color=[cmap(0), cmap(1/5), cmap(2/5), cmap(3/5), cmap(4/5), cmap(5/5)], edgecolor='gray')\n",
    "        distance_histogram.invert_yaxis()\n",
    "        distance_histogram.set_xlim(dist_histogram_options.get('xlim'))\n",
    "        distance_histogram.set_xticks(dist_histogram_options.get('xticks'))\n",
    "        distance_histogram.set_xlabel('km')\n",
    "        distance_histogram.set_ylabel('')\n",
    "        category_lables = ['Great', 'Good', 'Doable', 'Hard', 'Risky', 'Inaccessible']\n",
    "        distance_histogram.yaxis.set_major_formatter(lambda x, y: category_lables[x])\n",
    "\n",
    "    if station_count_df is not None and as_of_date is not None and station_count_options.get('show', False):\n",
    "        axin2 = ax.inset_axes(station_count_options.get('inset_axes'))\n",
    "        station_counts = station_count_df.copy()\n",
    "        station_counts.loc[station_counts.index > as_of_date, 'count'] = np.nan\n",
    "        station_count_chart = station_counts.plot(ax=axin2, legend=False, title=f'{as_of_date} - {len(filtered_stations)} stations')\n",
    "        station_count_chart.set_ylim((0, len(stations)))\n",
    "\n",
    "    provinces.plot(ax=ax, figsize=figsize, color='xkcd:cool gray', zorder=0)\n",
    "    provinces.boundary.plot(ax=ax, figsize=figsize, color='gray', linewidth=0.3, zorder=1)\n",
    "    \n",
    "    plot = filtered_stations.plot(ax=ax, figsize=figsize, **station_options)\n",
    "    if filename is None:\n",
    "        filename = f'monthly_ev_highways_{connector_type}_{max_range}_{as_of_date}.png'\n",
    "    plot.get_figure().savefig(f'output/{filename}')\n",
    "    \n",
    "    plt.close('all')\n"
   ]
  },
  {
   "cell_type": "code",
   "execution_count": null,
   "id": "cbfa74c5-6275-4945-9f99-40503a4bbc7c",
   "metadata": {},
   "outputs": [],
   "source": [
    "ev_highways = calculate_ev_highways(stations, highways)\n"
   ]
  },
  {
   "cell_type": "code",
   "execution_count": null,
   "id": "93918546-4e4f-4af9-bb38-fef94f1daae3",
   "metadata": {},
   "outputs": [],
   "source": [
    "draw_map(stations, ev_highways, None, filename=f'ev_highways_{connector_type}_{max_range}_today.png')\n"
   ]
  },
  {
   "cell_type": "code",
   "execution_count": null,
   "id": "57605269-6813-401b-a1e3-bcce4ce4864b",
   "metadata": {},
   "outputs": [],
   "source": [
    "def export_ev_highways(ev_highways, country, connector_type):\n",
    "    ev_highways = ev_highways.copy()\n",
    "    ev_highways['rank'] = ev_highways['charger_distance'].apply(categorize_distance)\n",
    "    ev_highways['dist_km'] = ev_highways['charger_distance'].apply(lambda x: int(round(x / 1000)))\n",
    "    ev_highways.drop(columns=['charger_distance'], inplace=True)\n",
    "    # Simplify before exporting\n",
    "    ev_highways['geometry'] = ev_highways['geometry'].simplify(10)\n",
    "\n",
    "    ev_highways.to_crs(output_crs).to_file(f'maps/ev_highways_{country}_{connector_type}.geojson')\n",
    "\n"
   ]
  },
  {
   "cell_type": "code",
   "execution_count": null,
   "id": "d4875173-5b32-4c5a-a83a-8ad25b4bbc9f",
   "metadata": {},
   "outputs": [],
   "source": [
    "export_ev_highways(ev_highways.drop(columns=['TYPE', 'PRNAME_L']).rename(columns={'NAME': 'Name', 'CSDNAME_R': 'Place'}), 'CA', connector_type)"
   ]
  },
  {
   "cell_type": "code",
   "execution_count": null,
   "id": "fd7604d6-ec57-4c95-a310-0cceda56d825",
   "metadata": {},
   "outputs": [],
   "source": []
  },
  {
   "cell_type": "code",
   "execution_count": null,
   "id": "2565c301-e63e-4d50-acff-ac85b33d066d",
   "metadata": {},
   "outputs": [],
   "source": [
    "def next_month(d):\n",
    "    return date(d.year, d.month + 1, 1) if d.month < 12 else date(d.year + 1, 1, 1)"
   ]
  },
  {
   "cell_type": "code",
   "execution_count": null,
   "id": "a03ff54f-efaf-49e3-8b90-d36b0ad2d050",
   "metadata": {},
   "outputs": [],
   "source": [
    "stations[\"open_month\"] = stations[\"open_date\"].apply(lambda x: (date.fromisoformat(x) if x is not None else date.today()).replace(day=1))\n",
    "\n",
    "start_date = stations[\"open_month\"].min()\n",
    "current_month = date(date.today().year, date.today().month, 1)\n",
    "end_date = next_month(current_month)\n",
    "\n",
    "station_count_df = pandas.DataFrame({\"count\": stations.groupby(\"open_month\")[\"id\"].count().reindex(pandas.date_range(start_date, end_date, freq='MS'), fill_value=0).cumsum()})\n",
    "station_count_df"
   ]
  },
  {
   "cell_type": "code",
   "execution_count": null,
   "id": "bf3c16c5-8af8-44f0-ad22-16fb14e9ea8f",
   "metadata": {},
   "outputs": [],
   "source": [
    "as_of = date(2015, 1, 1)\n",
    "\n",
    "ev_highways = None\n",
    "while as_of <= end_date:\n",
    "    as_of_date = as_of.strftime(\"%Y-%m-%d\")\n",
    "    print(as_of_date)\n",
    "    \n",
    "    filtered_stations = stations[stations[\"open_date\"] <= as_of_date]\n",
    "    \n",
    "    ev_highways = calculate_ev_highways(filtered_stations, highways, ev_highways)\n",
    "\n",
    "    draw_map(filtered_stations, ev_highways, station_count_df, as_of_date)\n",
    "    \n",
    "    as_of = next_month(as_of)\n",
    "\n"
   ]
  },
  {
   "cell_type": "code",
   "execution_count": null,
   "id": "e097c037-77cb-4f24-b5fa-365a849bb7ca",
   "metadata": {},
   "outputs": [],
   "source": [
    "def province_good_and_great(ev_highways):\n",
    "    ev_highways = ev_highways.copy()\n",
    "    ev_highways['distance_cat'] = ev_highways['charger_distance'].apply(categorize_distance)\n",
    "    ev_highways['length_km'] = ev_highways.length / 1000\n",
    "    \n",
    "    good_by_province = ev_highways.groupby([\"PRNAME_L\", \"distance_cat\"])[\"length_km\"].sum()\n",
    "    \n",
    "    by_prov = pandas.DataFrame(good_by_province).reset_index(level=1).pivot_table(index=[\"PRNAME_L\"], columns=\"distance_cat\", values=\"length_km\").fillna(0)\n",
    "    by_prov[\"good_%\"] = (by_prov[\"1 - Great\"] + by_prov[\"2 - Good\"]) / (by_prov[\"1 - Great\"] + by_prov[\"2 - Good\"] + by_prov[\"3 - Doable\"] + by_prov[\"4 - Hard\"] + by_prov[\"5 - Risky\"] + by_prov[\"6 - Inaccessible\"])\n",
    "    return pandas.merge(provinces, by_prov, how=\"left\", left_on=[\"PRNAME\"], right_on=[\"PRNAME_L\"]).fillna(0)\n"
   ]
  },
  {
   "cell_type": "code",
   "execution_count": null,
   "id": "a7c6efaa-eb46-4ae5-a378-c7e519bf6481",
   "metadata": {},
   "outputs": [],
   "source": [
    "by_prov = province_good_and_great(ev_highways)\n",
    "by_prov\n"
   ]
  },
  {
   "cell_type": "code",
   "execution_count": null,
   "id": "52ba7ce4-1ef8-4b5c-adbb-9a2ed0f98ffe",
   "metadata": {},
   "outputs": [],
   "source": [
    "ev_highways[\"good\"] = ev_highways[\"charger_distance\"] < 50*1000\n",
    "ev_highways"
   ]
  },
  {
   "cell_type": "code",
   "execution_count": null,
   "id": "815e09f8-ffc4-4929-a54f-a57688fb7f8f",
   "metadata": {},
   "outputs": [],
   "source": [
    "ax = by_prov.plot(column=\"good_%\", cmap=\"Greens\", edgecolor=\"black\", linewidth=0.1, figsize=(15,11))\n",
    "ax.set_title(\"Percentage of Major Highways With Good EV Fast Charging By Province\")\n",
    "ax.get_xaxis().set_visible(False)\n",
    "ax.get_yaxis().set_visible(False)\n",
    "\n",
    "xy_overwrites = {\n",
    "    \"P.E.I.\": (8351561, 1680000),\n",
    "    \"N.S.\": (8650000, 1460000),\n",
    "    \"N.B.\": (8050000, 1290000),\n",
    "    \"Nvt.\": (6100000, 3200000),\n",
    "}\n",
    "\n",
    "def annotate_province_percentages(x):\n",
    "    if x[\"PREABBR\"] == 'Nvt.':\n",
    "        # skip as there are no major highways\n",
    "        return\n",
    "    xy = xy_overwrites.get(x[\"PREABBR\"], x.geometry.centroid.coords[0])\n",
    "    return ax.annotate(text=f\"{x['good_%']:.0%}\", xy=xy, ha=\"center\", fontsize=14)\n",
    "by_prov.apply(annotate_province_percentages, axis=1);\n",
    "ev_highways[ev_highways[\"good\"] == True].plot(ax=ax, linewidth=0.2, color=\"xkcd:electric blue\")\n",
    "plot = ev_highways[ev_highways[\"good\"] == False].plot(ax=ax, linewidth=0.2, color=\"xkcd:light grey\")\n",
    "plot.get_figure().savefig(f\"output/ev_highways_canada_{connector_type}_good.png\")\n",
    "plot"
   ]
  },
  {
   "cell_type": "code",
   "execution_count": null,
   "id": "e9b10b38-daad-4abf-a53e-b8c9f1f672ff",
   "metadata": {},
   "outputs": [],
   "source": [
    "# new_stations\n",
    "# Yorkton\n",
    "\n",
    "\n",
    "new_stations_df = pandas.DataFrame({\n",
    "    'City': ['Yorkton', 'Grande Prairie', 'Whitecourt', 'Boyle', 'Minnedosa', 'Prince Albert', 'McLeod Lake', 'Hanna', 'Kindersley', 'Winnard'],\n",
    "    'Province': ['SK', 'AB', 'AB', 'AB', 'MB', 'SK', 'BC', 'AB', 'SK', 'SK'],\n",
    "    'Latitude': [51.210516, 55.171337, 54.137583, 54.587165, 50.246068, 53.199422, 54.991843, 51.634314, 51.474346, 51.7687349],\n",
    "    'Longitude': [-102.448397, -118.821136, -115.686344, -112.803389, -99.839088, -105.759733, -123.034198, -111.942042, -109.168040, -104.1791185],\n",
    "    'Population': [16343, 63166, 9721, 845, 2449, 35926, 94, 2559, 4597, 1732],\n",
    "})\n",
    "\n",
    "new_stations = geopandas.GeoDataFrame(new_stations_df, geometry=geopandas.points_from_xy(new_stations_df.Longitude, new_stations_df.Latitude))\n",
    "new_stations.crs = \"EPSG:4326\"\n",
    "new_stations = new_stations.to_crs(mapping_crs)\n",
    "new_stations"
   ]
  },
  {
   "cell_type": "code",
   "execution_count": null,
   "id": "072f4cdb-9012-4092-a143-ef0b1a1d358e",
   "metadata": {},
   "outputs": [],
   "source": [
    "fantasy_stations = pandas.concat([stations[[\"geometry\"]], new_stations[[\"geometry\"]]])\n",
    "fantasy_ev_highways = calculate_ev_highways(fantasy_stations, highways, ev_highways)\n"
   ]
  },
  {
   "cell_type": "code",
   "execution_count": null,
   "id": "862c0472-4079-40ea-b5c8-c646655a238f",
   "metadata": {},
   "outputs": [],
   "source": [
    "draw_map(new_stations, fantasy_ev_highways, None, filename=f'ev_highways_{connector_type}_{max_range}_fantasy.png', station_options={\"markersize\":15.0, \"color\": \"xkcd:coral\"}, title=\"Fantasy EV Fast Charging (10 Extra Stations)\")"
   ]
  },
  {
   "cell_type": "code",
   "execution_count": null,
   "id": "93fca0e1-6de2-4a30-9089-426f9a868b7c",
   "metadata": {},
   "outputs": [],
   "source": [
    "new_stations"
   ]
  },
  {
   "cell_type": "code",
   "execution_count": null,
   "id": "d7e8b88e-25ad-4230-8f60-3f261b11003e",
   "metadata": {},
   "outputs": [],
   "source": [
    "# US Map"
   ]
  },
  {
   "cell_type": "code",
   "execution_count": null,
   "id": "6e3af808-6487-4896-835b-982786248149",
   "metadata": {},
   "outputs": [],
   "source": [
    "# Switch to a better projection for the US\n",
    "mapping_crs = \"EPSG:3857\" # Pseudo-Mercator\n"
   ]
  },
  {
   "cell_type": "code",
   "execution_count": null,
   "id": "a910ec09-6113-4e98-b961-b34e0c808372",
   "metadata": {},
   "outputs": [],
   "source": [
    "def get_us_highways(refresh_cache=False):\n",
    "    local_path = \"data/us_highways.shp\"\n",
    "    remote_path = \"https://www2.census.gov/geo/tiger/TIGER2019/PRIMARYROADS/tl_2019_us_primaryroads.zip\"\n",
    "    return load_geodataset(remote_path, local_path, refresh_cache=refresh_cache).to_crs(mapping_crs)\n"
   ]
  },
  {
   "cell_type": "code",
   "execution_count": null,
   "id": "8fa347e9-6249-4c54-962c-405376629271",
   "metadata": {},
   "outputs": [],
   "source": [
    "us_highways = get_us_highways()"
   ]
  },
  {
   "cell_type": "code",
   "execution_count": null,
   "id": "e2e2620f-163d-417f-98ef-f184fcae232d",
   "metadata": {},
   "outputs": [],
   "source": [
    "us_highways.plot()"
   ]
  },
  {
   "cell_type": "code",
   "execution_count": null,
   "id": "de5e3b2f-9cff-400b-a52f-f4a6568af081",
   "metadata": {},
   "outputs": [],
   "source": [
    "def get_states(refresh_cache=False):\n",
    "    remote_path = \"https://www2.census.gov/geo/tiger/GENZ2018/shp/cb_2018_us_state_20m.zip\"\n",
    "    local_path = \"data/states.shp\"\n",
    "    return load_geodataset(remote_path, local_path, refresh_cache=refresh_cache)"
   ]
  },
  {
   "cell_type": "code",
   "execution_count": null,
   "id": "8f17565d-a5a5-4782-8650-1c22c42ac651",
   "metadata": {},
   "outputs": [],
   "source": [
    "states = get_states()"
   ]
  },
  {
   "cell_type": "code",
   "execution_count": null,
   "id": "9e02201d-65be-442a-9c6d-56cf28353b2b",
   "metadata": {},
   "outputs": [],
   "source": [
    "states.plot()"
   ]
  },
  {
   "cell_type": "code",
   "execution_count": null,
   "id": "db6401bd-6f49-4404-973a-473c7d43df9d",
   "metadata": {},
   "outputs": [],
   "source": [
    "us_stations = get_stations(connector_type, country=\"US\")\n",
    "us_stations"
   ]
  },
  {
   "cell_type": "code",
   "execution_count": null,
   "id": "6fbed0c6-20ea-40bd-b03e-28a902f98600",
   "metadata": {},
   "outputs": [],
   "source": [
    "us_stations.to_crs(output_crs).to_file(f\"maps/stations_map_US_{connector_type}.geojson\")"
   ]
  },
  {
   "cell_type": "code",
   "execution_count": null,
   "id": "b93d4f5d-a93f-4ca1-9112-ee7421c69880",
   "metadata": {},
   "outputs": [],
   "source": [
    "ax = us_stations.plot(color='g', markersize=10)\n",
    "us_highways.plot(ax=ax)"
   ]
  },
  {
   "cell_type": "code",
   "execution_count": null,
   "id": "9080defd-7259-4eea-818f-cfc644cfb248",
   "metadata": {},
   "outputs": [],
   "source": [
    "us_ev_highways = calculate_ev_highways(us_stations, us_highways)\n"
   ]
  },
  {
   "cell_type": "code",
   "execution_count": null,
   "id": "46c32ef7-4bae-4553-8870-783055b92bad",
   "metadata": {},
   "outputs": [],
   "source": [
    "us_ev_highways"
   ]
  },
  {
   "cell_type": "code",
   "execution_count": null,
   "id": "4465d0a2-c131-4504-bca5-00cd2e946403",
   "metadata": {},
   "outputs": [],
   "source": [
    "export_ev_highways(us_ev_highways.drop(columns=['LINEARID', 'MTFCC']), 'US', connector_type)"
   ]
  },
  {
   "cell_type": "code",
   "execution_count": null,
   "id": "8cef8349-1671-4e88-9245-642098f6381f",
   "metadata": {},
   "outputs": [],
   "source": [
    "draw_map(us_stations, us_ev_highways, None, provinces=states, dist_histogram_options={'show': False}, station_count_options={'show':False}, title='US EV Charging', filename=f'ev_highways_US_{connector_type}_today.png')\n"
   ]
  },
  {
   "cell_type": "code",
   "execution_count": null,
   "id": "171b2fe2-b187-4427-b83a-41ebc2126943",
   "metadata": {},
   "outputs": [],
   "source": []
  }
 ],
 "metadata": {
  "kernelspec": {
   "display_name": "Python 3 (ipykernel)",
   "language": "python",
   "name": "python3"
  },
  "language_info": {
   "codemirror_mode": {
    "name": "ipython",
    "version": 3
   },
   "file_extension": ".py",
   "mimetype": "text/x-python",
   "name": "python",
   "nbconvert_exporter": "python",
   "pygments_lexer": "ipython3",
   "version": "3.9.14"
  }
 },
 "nbformat": 4,
 "nbformat_minor": 5
}
