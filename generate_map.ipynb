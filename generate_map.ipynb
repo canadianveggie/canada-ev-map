{
 "cells": [
  {
   "cell_type": "code",
   "execution_count": 53,
   "id": "e4c8967d-d1a9-40a1-98e0-f7387f8d64ae",
   "metadata": {},
   "outputs": [],
   "source": [
    "import geopandas\n",
    "from urllib.request import urlopen\n",
    "import json\n",
    "import pandas\n",
    "from datetime import date, timedelta\n",
    "import matplotlib\n",
    "import matplotlib.pyplot as plt\n",
    "import numpy as np\n",
    "\n",
    "\n"
   ]
  },
  {
   "cell_type": "code",
   "execution_count": 54,
   "id": "fc1577fb-80dd-48d7-86ac-916a18768e6e",
   "metadata": {},
   "outputs": [
    {
     "data": {
      "text/plain": [
       "{'ARCGEN': 'r',\n",
       " 'DXF': 'rw',\n",
       " 'CSV': 'raw',\n",
       " 'OpenFileGDB': 'r',\n",
       " 'ESRIJSON': 'r',\n",
       " 'ESRI Shapefile': 'raw',\n",
       " 'FlatGeobuf': 'rw',\n",
       " 'GeoJSON': 'raw',\n",
       " 'GeoJSONSeq': 'rw',\n",
       " 'GPKG': 'raw',\n",
       " 'GML': 'rw',\n",
       " 'OGR_GMT': 'rw',\n",
       " 'GPX': 'rw',\n",
       " 'GPSTrackMaker': 'rw',\n",
       " 'Idrisi': 'r',\n",
       " 'MapInfo File': 'raw',\n",
       " 'DGN': 'raw',\n",
       " 'OGR_PDS': 'r',\n",
       " 'S57': 'r',\n",
       " 'SQLite': 'raw',\n",
       " 'TopoJSON': 'r'}"
      ]
     },
     "execution_count": 54,
     "metadata": {},
     "output_type": "execute_result"
    }
   ],
   "source": [
    "import fiona;\n",
    "fiona.supported_drivers\n"
   ]
  },
  {
   "cell_type": "code",
   "execution_count": 55,
   "id": "8b8e09c1-427b-44db-b16e-218604f18256",
   "metadata": {},
   "outputs": [],
   "source": [
    "def load_geodataset(remote_path, local_path, simplify=None, refresh_cache=False):\n",
    "    df = None\n",
    "    if not refresh_cache:\n",
    "        try:\n",
    "            df = geopandas.read_file(local_path)\n",
    "        except Exception as e:\n",
    "            print(e)\n",
    "    \n",
    "    if df is None:\n",
    "        print(f\"Loading {remote_path}\")\n",
    "        df = geopandas.read_file(remote_path)\n",
    "        if simplify:\n",
    "            df[\"geometry\"] = df[\"geometry\"].simplify(simplify)\n",
    "\n",
    "        print(f\"Saving to {local_path}\")\n",
    "        df.to_file(local_path)\n",
    "\n",
    "    return df"
   ]
  },
  {
   "cell_type": "code",
   "execution_count": 56,
   "id": "b2b699c2-74af-4d32-bfbf-26e438516660",
   "metadata": {},
   "outputs": [],
   "source": [
    "def get_roads(refresh_cache=False):\n",
    "    remote_path = \"https://www12.statcan.gc.ca/census-recensement/2021/geo/sip-pis/RNF-FRR/files-fichiers/lrnf000r21a_e.zip\"\n",
    "    local_path = \"data/roads.shp\"\n",
    "    return load_geodataset(remote_path, local_path, refresh_cache=refresh_cache)\n"
   ]
  },
  {
   "cell_type": "code",
   "execution_count": 57,
   "id": "62a7f709-ae69-41ee-8fd0-bd3198aabd0f",
   "metadata": {},
   "outputs": [],
   "source": [
    "def get_highways(refresh_cache=False, columns=[\"NAME\", \"TYPE\", \"CSDNAME_R\", \"PRNAME_L\", \"geometry\"]):\n",
    "    local_path = \"data/highways.shp\"\n",
    "    \n",
    "    highways = None\n",
    "    if not refresh_cache:\n",
    "        try:\n",
    "            highways = geopandas.read_file(local_path)\n",
    "        except Exception as e:\n",
    "            print(e)\n",
    "    \n",
    "    if highways is None:\n",
    "        roads = get_roads(refresh_cache)\n",
    "        highways = roads.query('RANK <= \"2\"')\n",
    "        print(f\"Saving to {local_path}\")\n",
    "        highways.to_file(local_path)\n",
    "\n",
    "    return highways[columns]\n"
   ]
  },
  {
   "cell_type": "code",
   "execution_count": null,
   "id": "8a87f46a-00e2-48f2-9221-f519fac6f364",
   "metadata": {},
   "outputs": [
    {
     "name": "stdout",
     "output_type": "stream",
     "text": [
      "Loading https://www12.statcan.gc.ca/census-recensement/2021/geo/sip-pis/RNF-FRR/files-fichiers/lrnf000r21a_e.zip\n"
     ]
    }
   ],
   "source": [
    "# this is slow the first time you run it (downloads a 296 MB file), but it saves a smaller local version for future runs (123 MB)\n",
    "highways = get_highways()\n",
    "highways"
   ]
  },
  {
   "cell_type": "code",
   "execution_count": null,
   "id": "21e97c5b-e0c4-41a9-9921-83702818fdd6",
   "metadata": {},
   "outputs": [],
   "source": [
    "highways.plot()"
   ]
  },
  {
   "cell_type": "code",
   "execution_count": null,
   "id": "296c66ef-5a12-47a8-b060-8eb02ac934b0",
   "metadata": {},
   "outputs": [],
   "source": [
    "def get_provinces(refresh_cache=False):\n",
    "    remote_path = \"https://www12.statcan.gc.ca/census-recensement/2011/geo/bound-limit/files-fichiers/2016/lpr_000b16a_e.zip\"\n",
    "    local_path = \"data/provinces.shp\"\n",
    "    # simplify=1000 turns a 54 MB file to a 3 MB file\n",
    "    return load_geodataset(remote_path, local_path, simplify=1000, refresh_cache=refresh_cache)"
   ]
  },
  {
   "cell_type": "code",
   "execution_count": null,
   "id": "05d48c28-5dec-4380-9496-80ce220d52f3",
   "metadata": {},
   "outputs": [],
   "source": [
    "provinces = get_provinces()\n",
    "provinces.plot()"
   ]
  },
  {
   "cell_type": "code",
   "execution_count": null,
   "id": "ffa4f052-8e12-4dc5-a86b-1ded1a5b05af",
   "metadata": {},
   "outputs": [],
   "source": [
    "# connector_type: [all, NEMA1450, NEMA515,NEMA520,J1772,J1772COMBO,CHADEMO,TESLA\n",
    "def get_stations(connector_type=\"J1772COMBO\", refresh_cache=False):\n",
    "    remote_path=f\"https://developer.nrel.gov/api/alt-fuel-stations/v1.geojson?api_key=JDgwj9XoVgfg8ryEgz1AOnnBbfoLATWjy4x6dOlv&country=CA&owner_type=all&cards_accepted=all&offset=0&fuel_type=ELEC&access=public&status=E&ev_charging_level=dc_fast&ev_connector_type={connector_type}&ev_network=all\"\n",
    "    local_path=f\"data/stations_{connector_type}.shp\"\n",
    "\n",
    "    stations = None\n",
    "    if not refresh_cache:\n",
    "        try:\n",
    "            stations = geopandas.read_file(local_path)\n",
    "        except Exception as e:\n",
    "            print(e)\n",
    "    \n",
    "    if stations is None:\n",
    "        print(f\"Loading {remote_path}\")\n",
    "        stations = geopandas.read_file(remote_path)\n",
    "        stations.crs = \"EPSG:4326\"\n",
    "        columns=[\"id\", \"open_date\", \"status_code\", \"station_name\",\n",
    "           \"city\", \"state\", \"street_address\", \"ev_network\", \"geometry\"]\n",
    "        stations = stations.to_crs(highways.crs)[columns]\n",
    "        print(f\"Saving to {local_path}\")\n",
    "        print(stations)\n",
    "        stations.to_file(local_path)\n",
    "\n",
    "    return stations\n",
    "\n",
    "    \n",
    "    "
   ]
  },
  {
   "cell_type": "code",
   "execution_count": null,
   "id": "8c0f2def-c4e4-4d9d-a573-f184a7976c34",
   "metadata": {},
   "outputs": [],
   "source": [
    "# Hyudani Kona - CCS Combo - 415 km\n",
    "# Hyudani Ioniq 5 - CCS Combo - 354 km\n",
    "# Hyudani Ioniq 5 Long Range - CCS Combo - 488 km\n",
    "# Nissan Leaf - Chademo 349 km\n",
    "# Telsa Model 3 Standard Range - 401 km\n",
    "# Tesla Model 3 Extended Range - 518 km\n",
    "\n",
    "connector_type= \"J1772COMBO\" # one of [\"CHADEMO\", \"J1772COMBO\", \"TESLA\"]\n",
    "max_range = 415"
   ]
  },
  {
   "cell_type": "code",
   "execution_count": null,
   "id": "3937bba5-30ef-4eb7-85af-834137d43e16",
   "metadata": {},
   "outputs": [],
   "source": [
    "stations = get_stations(connector_type)\n",
    "stations"
   ]
  },
  {
   "cell_type": "code",
   "execution_count": null,
   "id": "291bcaf7-5162-4201-97f1-85129cec6d97",
   "metadata": {},
   "outputs": [],
   "source": [
    "stations.to_crs(\"EPSG:4326\").to_file(f\"maps/stations_map_{connector_type}.geojson\")"
   ]
  },
  {
   "cell_type": "code",
   "execution_count": null,
   "id": "c62175b3-a248-4e67-9e5c-0331cf88a713",
   "metadata": {},
   "outputs": [],
   "source": [
    "stations.plot()"
   ]
  },
  {
   "cell_type": "code",
   "execution_count": null,
   "id": "51802a7a-90b4-46c0-a7d6-ca1fbef327ee",
   "metadata": {},
   "outputs": [],
   "source": [
    "ax = stations.plot(color='g', markersize=10)\n",
    "highways.plot(ax=ax)"
   ]
  },
  {
   "cell_type": "code",
   "execution_count": null,
   "id": "223969d1-0bae-4a7a-9f4c-51af57c2978c",
   "metadata": {},
   "outputs": [],
   "source": [
    "# Method 1 for finding close stations - keep adding adjacent segments next to each EV\n",
    "def find_stations_old_method():\n",
    "    close_stations = geopandas.sjoin_nearest(highways, stations[[\"geometry\"]], how='left', distance_col='charger_distance', max_distance=5000)\n",
    "    close_stations = close_stations.drop(['index_right'], axis=1)\n",
    "\n",
    "    found = close_stations[close_stations.charger_distance >= 0]\n",
    "    not_found = close_stations[close_stations.charger_distance.isna()]\n",
    "    f\"{len(found)} / {len(not_found)}\"\n",
    "\n",
    "    changes = True\n",
    "    tolerance = 0.1\n",
    "    i = 0\n",
    "\n",
    "    while changes and len(not_found) > 0:\n",
    "        adjacent = geopandas.sjoin_nearest(not_found.drop([\"charger_distance\"], axis=1), found[[\"geometry\", \"charger_distance\"]], how='left', distance_col='closest_distance', max_distance=tolerance)\n",
    "        adjacent[\"charger_distance\"] = adjacent[\"charger_distance\"] + adjacent.geometry.length + adjacent[\"closest_distance\"]\n",
    "        adjacent = adjacent[found.columns]\n",
    "        changes = len(adjacent[adjacent.charger_distance >= 0]) > 0\n",
    "        found = pandas.concat([found, adjacent[adjacent.charger_distance >= 0]])\n",
    "        not_found = adjacent[adjacent.charger_distance.isna()]\n",
    "        i += 1\n",
    "        if i % 100 == 0:\n",
    "            print(f\"{len(found)} / {len(not_found)}\")\n",
    "    print(f\"{len(found)} / {len(not_found)}\")\n",
    "\n",
    "    not_found[\"charger_distance\"] = 999999\n",
    "    found = pandas.concat([found, not_found])\n",
    "    return found\n",
    "\n",
    "# found = find_stations_old_method()"
   ]
  },
  {
   "cell_type": "code",
   "execution_count": null,
   "id": "23599467-516c-45e8-8cae-ba298197db0e",
   "metadata": {},
   "outputs": [],
   "source": [
    "# Method 2 for finding close stations - look at adjacent stations and find minimum path to a charger\n",
    "def calculate_ev_highways(stations, ev_highways=None):\n",
    "    close_stations = geopandas.sjoin_nearest(highways, stations[[\"geometry\"]], how='left', distance_col='charger_distance', max_distance=5000)\n",
    "    close_stations = close_stations.drop(['index_right'], axis=1)\n",
    "\n",
    "    if ev_highways is None:\n",
    "        max_distance = 499999 # We don't care about roads more than 500 kms away from a station\n",
    "        ev_highways = highways.copy()\n",
    "        ev_highways[\"charger_distance\"] = max_distance\n",
    "    \n",
    "    next_round = close_stations[close_stations[\"charger_distance\"] >= 0]\n",
    "    ev_highways.loc[next_round.index, \"charger_distance\"] = next_round[\"charger_distance\"]\n",
    "\n",
    "    changes = True\n",
    "    tolerance = 0.1\n",
    "    i = 0\n",
    "\n",
    "    while changes:\n",
    "        adjacent = geopandas.sjoin_nearest(ev_highways[[\"geometry\", \"charger_distance\"]], next_round, how='left', distance_col=\"closest_distance\", max_distance=tolerance)\n",
    "        adjacent = adjacent[~adjacent[\"closest_distance\"].isna()]\n",
    "        adjacent[\"charger_distance\"] = adjacent[\"charger_distance_right\"] + adjacent.geometry.length + adjacent[\"closest_distance\"]\n",
    "        # Limit adjacents to shortest distance to a charger per segment\n",
    "        adjacent.sort_values('charger_distance', inplace=True)\n",
    "        adjacent = adjacent[~adjacent.index.duplicated()]\n",
    "        # Only consider segments that are now shorter\n",
    "        next_round = adjacent[adjacent[\"charger_distance\"] < adjacent[\"charger_distance_left\"] ]\n",
    "        next_round = next_round[ev_highways.columns]\n",
    "        ev_highways.loc[next_round.index, \"charger_distance\"] = next_round[\"charger_distance\"]\n",
    "        \n",
    "        changes = len(next_round) > 0\n",
    "        sum_distance = ev_highways[\"charger_distance\"].sum()\n",
    "        i += 1\n",
    "        # if i % 100 == 0:\n",
    "        #    print(f\"changed: {len(next_round)} distances, sum distance={sum_distance}\")\n",
    "\n",
    "    return ev_highways\n",
    "\n"
   ]
  },
  {
   "cell_type": "code",
   "execution_count": null,
   "id": "8e948541-dc1b-48d0-852e-d9f785e965d6",
   "metadata": {},
   "outputs": [],
   "source": [
    "def categorize_distance(dist):\n",
    "    if dist * 2 <= min(50 * 1000, max_range * 1000 * 0.8 * 0.25):\n",
    "        return \"1 - Great\"\n",
    "    if dist * 2 <= min(100 * 1000, max_range * 1000 * 0.8 * 0.5):\n",
    "        return \"2 - Good\"\n",
    "    if dist * 2 <= min(200 * 1000, max_range * 1000 * 0.8 * 0.75):\n",
    "        return \"3 - Doable\"\n",
    "    if dist * 2 <= min(300 * 1000, max_range * 1000 * 0.8):\n",
    "        return \"4 - Hard\"\n",
    "    if dist * 2 <= min(350 * 1000, max_range * 1000 * 0.85):\n",
    "        return \"5 - Risky\"\n",
    "    return \"6 - Inaccessible\""
   ]
  },
  {
   "cell_type": "code",
   "execution_count": null,
   "id": "08e4eba5-6710-4ccb-9728-a76b20dc55d3",
   "metadata": {},
   "outputs": [],
   "source": [
    "def draw_map(filtered_stations,\n",
    "             ev_highways,\n",
    "             station_count_df,\n",
    "             as_of_date,\n",
    "             highway_options={\"legend\": False, \"cmap\": \"YlGnBu_r\"},\n",
    "             station_options={\"markersize\":0.7, \"color\": \"xkcd:dark blue\"}\n",
    "    ):\n",
    "    ev_highways = ev_highways.copy()\n",
    "    ev_highways['distance_cat'] = ev_highways['charger_distance'].apply(categorize_distance)\n",
    "    ev_highways['length_km'] = ev_highways.length / 1000\n",
    "    \n",
    "    figsize = (15,11)\n",
    "    ax = ev_highways.plot(column=\"distance_cat\", figsize=figsize, **highway_options)\n",
    "    ax.get_xaxis().set_visible(False)\n",
    "    ax.get_yaxis().set_visible(False)\n",
    "    ax.set_title(\"Canadian Highways with EV Fast Charging\")\n",
    "\n",
    "    cmap = matplotlib.cm.get_cmap('YlGnBu_r')\n",
    "    axin1 = ax.inset_axes([0.75, 0.8, 0.25, 0.2])\n",
    "\n",
    "    distance_histogram = ev_highways.groupby([\"distance_cat\"])[\"length_km\"].sum().plot(ax=axin1, kind=\"barh\", color=[cmap(0), cmap(1/5), cmap(2/5), cmap(3/5), cmap(4/5), cmap(5/5)], edgecolor=\"gray\")\n",
    "    distance_histogram.invert_yaxis()\n",
    "    distance_histogram.set_xlim((0, 40000))\n",
    "    distance_histogram.set_xticks([0, 10000, 20000, 30000 ])\n",
    "    distance_histogram.set_xlabel(\"km\")\n",
    "    distance_histogram.set_ylabel(\"\")\n",
    "    category_lables = [\"Great\", \"Good\", \"Doable\", \"Hard\", \"Risky\", \"Inaccessible\"]\n",
    "    distance_histogram.yaxis.set_major_formatter(lambda x, y: category_lables[x])\n",
    "    \n",
    "\n",
    "    if station_count_df is not None:\n",
    "        axin2 = ax.inset_axes([0.045, 0.03, 0.3, 0.15])\n",
    "        station_counts = station_count_df.copy()\n",
    "        station_counts.loc[station_counts.index > as_of_date, \"count\"] = np.nan\n",
    "        station_count_chart = station_counts.plot(ax=axin2, legend=False, title=f\"{as_of_date} - {len(filtered_stations)} stations\")\n",
    "        station_count_chart.set_ylim((0, len(stations)))\n",
    "\n",
    "    provinces.plot(ax=ax, figsize=figsize, color='xkcd:cool gray', zorder=0)\n",
    "    provinces.boundary.plot(ax=ax, figsize=figsize, color='gray', linewidth=0.3, zorder=1)\n",
    "    \n",
    "    plot = filtered_stations.plot(ax=ax, figsize=figsize, **station_options)\n",
    "    plot.get_figure().savefig(f\"images/ev_highways_{connector_type}_{max_range}_{as_of_date}.png\")\n",
    "    \n",
    "    plt.close('all')\n"
   ]
  },
  {
   "cell_type": "code",
   "execution_count": null,
   "id": "d4875173-5b32-4c5a-a83a-8ad25b4bbc9f",
   "metadata": {},
   "outputs": [],
   "source": [
    "ev_highways = calculate_ev_highways(stations)\n",
    "draw_map(stations, ev_highways, None, \"today\")\n",
    "ev_highways['distance_cat'] = ev_highways['charger_distance'].apply(categorize_distance)\n",
    "ev_highways['length_km'] = ev_highways.length / 1000\n",
    "ev_highways.to_crs(\"EPSG:4326\").to_file(f\"maps/ev_highways_{connector_type}_{max_range}.geojson\")\n"
   ]
  },
  {
   "cell_type": "code",
   "execution_count": null,
   "id": "0180f3cd-5623-4d7e-ac90-392ab901e222",
   "metadata": {},
   "outputs": [],
   "source": []
  },
  {
   "cell_type": "code",
   "execution_count": null,
   "id": "2565c301-e63e-4d50-acff-ac85b33d066d",
   "metadata": {},
   "outputs": [],
   "source": [
    "def next_month(d):\n",
    "    return date(d.year, d.month + 1, 1) if d.month < 12 else date(d.year + 1, 1, 1)"
   ]
  },
  {
   "cell_type": "code",
   "execution_count": null,
   "id": "a03ff54f-efaf-49e3-8b90-d36b0ad2d050",
   "metadata": {},
   "outputs": [],
   "source": [
    "stations[\"open_month\"] = stations[\"open_date\"].apply(lambda x: (date.fromisoformat(x) if x is not None else date.today()).replace(day=1))\n",
    "\n",
    "start_date = stations[\"open_month\"].min()\n",
    "current_month = date(date.today().year, date.today().month, 1)\n",
    "end_date = next_month(current_month)\n",
    "\n",
    "station_count_df = pandas.DataFrame({\"count\": stations.groupby(\"open_month\")[\"id\"].count().reindex(pandas.date_range(start_date, end_date, freq='MS'), fill_value=0).cumsum()})\n",
    "station_count_df"
   ]
  },
  {
   "cell_type": "code",
   "execution_count": null,
   "id": "bf3c16c5-8af8-44f0-ad22-16fb14e9ea8f",
   "metadata": {},
   "outputs": [],
   "source": [
    "as_of = date(2015, 1, 1)\n",
    "\n",
    "ev_highways = None\n",
    "while as_of <= end_date:\n",
    "    as_of_date = as_of.strftime(\"%Y-%m-%d\")\n",
    "    print(as_of_date)\n",
    "    \n",
    "    filtered_stations = stations[stations[\"open_date\"] <= as_of_date]\n",
    "    \n",
    "    ev_highways = calculate_ev_highways(filtered_stations, ev_highways)\n",
    "\n",
    "    draw_map(filtered_stations, ev_highways, station_count_df, as_of_date)\n",
    "    \n",
    "    as_of = next_month(as_of)\n",
    "\n"
   ]
  },
  {
   "cell_type": "code",
   "execution_count": null,
   "id": "e097c037-77cb-4f24-b5fa-365a849bb7ca",
   "metadata": {},
   "outputs": [],
   "source": [
    "def province_good_and_great(ev_highways):\n",
    "    ev_highways = ev_highways.copy()\n",
    "    ev_highways['distance_cat'] = ev_highways['charger_distance'].apply(categorize_distance)\n",
    "    ev_highways['length_km'] = ev_highways.length / 1000\n",
    "    \n",
    "    good_by_province = ev_highways.groupby([\"PRNAME_L\", \"distance_cat\"])[\"length_km\"].sum()\n",
    "    \n",
    "    by_prov = pandas.DataFrame(good_by_province).reset_index(level=1).pivot_table(index=[\"PRNAME_L\"], columns=\"distance_cat\", values=\"length_km\").fillna(0)\n",
    "    by_prov[\"good_%\"] = (by_prov[\"1 - Great\"] + by_prov[\"2 - Good\"]) / (by_prov[\"1 - Great\"] + by_prov[\"2 - Good\"] + by_prov[\"3 - Doable\"] + by_prov[\"4 - Hard\"] + by_prov[\"5 - Risky\"] + by_prov[\"6 - Inaccessible\"])\n",
    "    return pandas.merge(provinces, by_prov, how=\"left\", left_on=[\"PRNAME\"], right_on=[\"PRNAME_L\"]).fillna(0)\n"
   ]
  },
  {
   "cell_type": "code",
   "execution_count": null,
   "id": "a7c6efaa-eb46-4ae5-a378-c7e519bf6481",
   "metadata": {},
   "outputs": [],
   "source": [
    "by_prov = province_good_and_great(ev_highways)\n",
    "by_prov\n"
   ]
  },
  {
   "cell_type": "code",
   "execution_count": null,
   "id": "52ba7ce4-1ef8-4b5c-adbb-9a2ed0f98ffe",
   "metadata": {},
   "outputs": [],
   "source": [
    "ev_highways[\"good\"] = ev_highways[\"charger_distance\"] < 50*1000\n",
    "ev_highways"
   ]
  },
  {
   "cell_type": "code",
   "execution_count": null,
   "id": "815e09f8-ffc4-4929-a54f-a57688fb7f8f",
   "metadata": {},
   "outputs": [],
   "source": [
    "ax = by_prov.plot(column=\"good_%\", cmap=\"Greens\", edgecolor=\"black\", linewidth=0.1, figsize=(15,11))\n",
    "ax.set_title(\"Major Highways with Good EV Fast Charging\")\n",
    "ax.get_xaxis().set_visible(False)\n",
    "ax.get_yaxis().set_visible(False)\n",
    "def annotate_province_percentages(x):\n",
    "    if x[\"PREABBR\"] in [\"Nvt.\", \"P.E.I.\", \"N.B.\", \"N.S.\"]:\n",
    "        # Skip percentages for legibility\n",
    "        return\n",
    "    return ax.annotate(text=f\"{x['good_%']:.0%}\", xy=x.geometry.centroid.coords[0], ha=\"center\")\n",
    "by_prov.apply(annotate_province_percentages, axis=1);\n",
    "ev_highways[ev_highways[\"good\"] == True].plot(ax=ax, linewidth=0.2, color=\"xkcd:electric blue\")\n",
    "plot = ev_highways[ev_highways[\"good\"] == False].plot(ax=ax, linewidth=0.2, color=\"xkcd:light grey\")\n",
    "plot.get_figure().savefig(f\"images/canada_ev_highways_{connector_type}_good.png\")\n",
    "plot"
   ]
  },
  {
   "cell_type": "code",
   "execution_count": null,
   "id": "e9b10b38-daad-4abf-a53e-b8c9f1f672ff",
   "metadata": {},
   "outputs": [],
   "source": [
    "# new_stations\n",
    "# Yorkton\n",
    "\n",
    "\n",
    "new_stations_df = pandas.DataFrame({\n",
    "    'City': ['Yorkton', 'Grande Prairie', 'Whitecourt', 'Boyle', 'Minnedosa', 'Prince Albert', 'McCleod Lake', 'Hanna', 'Kindersley', 'St. Barbe'],\n",
    "    'Province': ['SK', 'AB', 'AB', 'AB', 'MB', 'SK', 'BC', 'AB', 'SK', 'NL'],\n",
    "    'Latitude': [51.210516, 55.171337, 54.137583, 54.587165, 50.246068, 53.199422, 54.991843, 51.634314, 51.474346, 51.186568],\n",
    "    'Longitude': [-102.448397, -118.821136, -115.686344, -112.803389, -99.839088, -105.759733, -123.034198, -111.942042, -109.168040, -56.779044],\n",
    "    'Population': [16343, 63166, 9721, 845, 2449, 35926, 94, 2559, 4597, 135],\n",
    "})\n",
    "\n",
    "new_stations = geopandas.GeoDataFrame(new_stations_df, geometry=geopandas.points_from_xy(new_stations_df.Longitude, new_stations_df.Latitude))\n",
    "new_stations.crs = \"EPSG:4326\"\n",
    "new_stations = new_stations.to_crs(highways.crs)\n",
    "new_stations"
   ]
  },
  {
   "cell_type": "code",
   "execution_count": null,
   "id": "072f4cdb-9012-4092-a143-ef0b1a1d358e",
   "metadata": {},
   "outputs": [],
   "source": [
    "fantasy_stations = pandas.concat([stations[[\"geometry\"]], new_stations[[\"geometry\"]]])\n",
    "fantasy_ev_highways = calculate_ev_highways(fantasy_stations, ev_highways)\n"
   ]
  },
  {
   "cell_type": "code",
   "execution_count": null,
   "id": "862c0472-4079-40ea-b5c8-c646655a238f",
   "metadata": {},
   "outputs": [],
   "source": [
    "draw_map(new_stations, fantasy_ev_highways, None, \"fantasy\", station_options={\"markersize\":15.0, \"color\": \"xkcd:coral\"})"
   ]
  },
  {
   "cell_type": "code",
   "execution_count": null,
   "id": "93fca0e1-6de2-4a30-9089-426f9a868b7c",
   "metadata": {},
   "outputs": [],
   "source": []
  }
 ],
 "metadata": {
  "kernelspec": {
   "display_name": "Python 3 (ipykernel)",
   "language": "python",
   "name": "python3"
  },
  "language_info": {
   "codemirror_mode": {
    "name": "ipython",
    "version": 3
   },
   "file_extension": ".py",
   "mimetype": "text/x-python",
   "name": "python",
   "nbconvert_exporter": "python",
   "pygments_lexer": "ipython3",
   "version": "3.9.14"
  }
 },
 "nbformat": 4,
 "nbformat_minor": 5
}
